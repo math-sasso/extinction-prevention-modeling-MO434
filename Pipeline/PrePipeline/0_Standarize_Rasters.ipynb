{
  "nbformat": 4,
  "nbformat_minor": 0,
  "metadata": {
    "colab": {
      "name": "0_Standarize_Rasters.ipynb",
      "provenance": [],
      "collapsed_sections": [
        "0PdNm7w-M4-W",
        "td2OngvQB5kU"
      ],
      "toc_visible": true
    },
    "kernelspec": {
      "name": "python3",
      "display_name": "Python 3"
    }
  },
  "cells": [
    {
      "cell_type": "markdown",
      "metadata": {
        "id": "lj_Cz0FCjrNz"
      },
      "source": [
        "# Standarize Rasters\n",
        "<!-- ## Responsabilities of this file\n",
        "* Create masks of brazilian territoy\n",
        "* Create empty masks\n",
        "* Standarize all rasters on empty maks Affines -->\n"
      ]
    },
    {
      "cell_type": "markdown",
      "metadata": {
        "id": "6ZjtWKQAgESW"
      },
      "source": [
        "## Who is Running?"
      ]
    },
    {
      "cell_type": "code",
      "metadata": {
        "id": "JtSObzWfgEaA"
      },
      "source": [
        "#Matheus\n",
        "project_root = \"/content/drive/MyDrive/Mestrado/Deep Learning/Projeto\"\n",
        "#Gabi\n",
        "#Jean\n",
        "#Sandra\n",
        "\n",
        "from google.colab import drive\n",
        "drive.mount('/content/drive')"
      ],
      "execution_count": null,
      "outputs": []
    },
    {
      "cell_type": "markdown",
      "metadata": {
        "id": "-8u6ForKgNLH"
      },
      "source": [
        "##General Parameters"
      ]
    },
    {
      "cell_type": "code",
      "metadata": {
        "id": "yYURfQSSgMp7"
      },
      "source": [
        "# Reference Data Paths\n",
        "ref_image_path = project_root + \"/Data/Rasters/Envirem_Rasters/envir11_PET_coldest_quarter.tif\"\n",
        "shapefiles_folder = project_root + \"/Data/Shapefiles/Shapefiles_Brasil\" \n",
        "rasters_root_folders_list =  [project_root+\"/Data/Rasters/Elevation_Rasters\", project_root+\"/Data/Rasters/Bioclim_Rasters\",project_root+\"/Data/Rasters/Envirem_Rasters\"]\n",
        "\n",
        "# Output File Names\n",
        "territory_mask_name = \"brazilian_mask_standarized.tif\"\n",
        "empty_mask_name = \"empty_mask_standarized.tif\" \n",
        "base_txt_files_path = project_root + \"/Data/Standarized_Rasters/TXT_Aux_Files\" #\n",
        "base_csv_files_path = project_root + \"/Data/Standarized_Rasters/CSV_Aux_Files\"\n",
        "base_rasters_folder_path = project_root + \"/Data/Standarized_Rasters/Base_Rasters\"\n",
        "standarized_rasters_root_folders_list =  [project_root+\"/Data/Standarized_Rasters/Elevation_Rasters\", project_root+\"/Data/Standarized_Rasters/Bioclim_Rasters\",project_root+\"/Data/Standarized_Rasters/Envirem_Rasters\"] \n",
        "\n",
        "# Brazil Limits\n",
        "country_limits = (-73.981934,-34.792929, -33.750035, 5.271478)\n"
      ],
      "execution_count": null,
      "outputs": []
    },
    {
      "cell_type": "markdown",
      "metadata": {
        "id": "5xKssYJd7jht"
      },
      "source": [
        "## Instalações"
      ]
    },
    {
      "cell_type": "code",
      "metadata": {
        "id": "qGJXLpkS7iKJ"
      },
      "source": [
        "! pip install geopandas --quiet\n",
        "! pip install rasterio --quiet\n",
        "! pip install earthpy --quiet"
      ],
      "execution_count": null,
      "outputs": []
    },
    {
      "cell_type": "markdown",
      "metadata": {
        "id": "cHblNMQV3Y5r"
      },
      "source": [
        "##  Retrieving aux Classes"
      ]
    },
    {
      "cell_type": "code",
      "metadata": {
        "colab": {
          "base_uri": "https://localhost:8080/"
        },
        "id": "IJTNFPTx3ZMN",
        "outputId": "452d9ea8-2f03-436e-91c8-d1b853532a15"
      },
      "source": [
        "!wget https://raw.githubusercontent.com/math-sasso/extinction-prevention-modeling-MO434/main/Aux_Files/utils.py"
      ],
      "execution_count": null,
      "outputs": [
        {
          "output_type": "stream",
          "text": [
            "--2020-12-13 15:22:58--  https://raw.githubusercontent.com/math-sasso/extinction-prevention-modeling-MO434/main/Aux_Files/utils.py\n",
            "Resolving raw.githubusercontent.com (raw.githubusercontent.com)... 151.101.0.133, 151.101.64.133, 151.101.128.133, ...\n",
            "Connecting to raw.githubusercontent.com (raw.githubusercontent.com)|151.101.0.133|:443... connected.\n",
            "HTTP request sent, awaiting response... 200 OK\n",
            "Length: 800 [text/plain]\n",
            "Saving to: ‘utils.py.1’\n",
            "\n",
            "\rutils.py.1            0%[                    ]       0  --.-KB/s               \rutils.py.1          100%[===================>]     800  --.-KB/s    in 0s      \n",
            "\n",
            "2020-12-13 15:22:58 (20.6 MB/s) - ‘utils.py.1’ saved [800/800]\n",
            "\n"
          ],
          "name": "stdout"
        }
      ]
    },
    {
      "cell_type": "code",
      "metadata": {
        "id": "TlNhAuTz3hP8"
      },
      "source": [
        "from utils import Utils\n",
        "utils_methods = Utils()"
      ],
      "execution_count": null,
      "outputs": []
    },
    {
      "cell_type": "markdown",
      "metadata": {
        "id": "AtwQPy3O7wck"
      },
      "source": [
        "## Shapefiles"
      ]
    },
    {
      "cell_type": "code",
      "metadata": {
        "id": "-uqHX_v-7y2o"
      },
      "source": [
        "import os\n",
        "shapefile_brasi_pais_folder = shapefiles_folder + '/Pais'\n",
        "brasil_pais_shp = os.path.join(shapefile_brasi_pais_folder, 'BRA_adm0.shp')"
      ],
      "execution_count": null,
      "outputs": []
    },
    {
      "cell_type": "markdown",
      "metadata": {
        "id": "EY7MfAlObfEJ"
      },
      "source": [
        "## Create if necessary Standarized Data Folders"
      ]
    },
    {
      "cell_type": "code",
      "metadata": {
        "id": "sjsj5mGRbeZT"
      },
      "source": [
        "for standarized_raster_folder_path in standarized_rasters_root_folders_list:\r\n",
        "  utils_methods.create_folder_structure(standarized_raster_folder_path)\r\n",
        "utils_methods.create_folder_structure(base_txt_files_path)\r\n",
        "utils_methods.create_folder_structure(base_csv_files_path)\r\n",
        "utils_methods.create_folder_structure(base_rasters_folder_path)"
      ],
      "execution_count": null,
      "outputs": []
    },
    {
      "cell_type": "markdown",
      "metadata": {
        "id": "RfX6lwTw7ky8"
      },
      "source": [
        "## Creating some auxiliary functions"
      ]
    },
    {
      "cell_type": "markdown",
      "metadata": {
        "id": "E5QUxrEc40vz"
      },
      "source": [
        "Convert dtype to numpy32"
      ]
    },
    {
      "cell_type": "code",
      "metadata": {
        "id": "WjPQhYAxsnan"
      },
      "source": [
        "import numpy as np\n",
        "def convert_dtype_to_float32(image_path:str):\n",
        "  src=rasterio.open(image_path)\n",
        "  band=src.read(1)\n",
        "  new_band = band.copy().astype(np.float32)\n",
        "  profile = src.profile\n",
        "  profile['dtype'] = np.float32\n",
        "  with rasterio.open(image_path, 'w', **profile) as dst:\n",
        "      dst.write(new_band.astype(rasterio.float32), 1)"
      ],
      "execution_count": null,
      "outputs": []
    },
    {
      "cell_type": "markdown",
      "metadata": {
        "id": "bZURkLPO45Xx"
      },
      "source": [
        "Set all no data  Values to -9999"
      ]
    },
    {
      "cell_type": "code",
      "metadata": {
        "id": "VHkuq-7i7u5t"
      },
      "source": [
        "#pode ser chamado apenas para pequenos raster\n",
        "def set_nodata_to_value(image_path:str,no_data_val):\n",
        "  src=rasterio.open(image_path)\n",
        "  band=src.read(1)\n",
        "  new_band = band.copy()\n",
        "  profile = src.profile\n",
        "  if profile['nodata'] <= no_data_val:\n",
        "    new_band = np.where(new_band <  no_data_val ,no_data_val, new_band)\n",
        "    profile['nodata'] = no_data_val\n",
        "  else:\n",
        "    raise Exception(\"Manually verify this raster. There is sometihng strange with no data val\")\n",
        "  \n",
        "  with rasterio.open(image_path, 'w', **profile) as dst:\n",
        "      dst.write(new_band, 1)"
      ],
      "execution_count": null,
      "outputs": []
    },
    {
      "cell_type": "markdown",
      "metadata": {
        "id": "BzX_G8nY4-Qx"
      },
      "source": [
        "Burn shapefile mask on raster"
      ]
    },
    {
      "cell_type": "code",
      "metadata": {
        "id": "8ddvMUgT7jVq"
      },
      "source": [
        "# A script to rasterise a shapefile to the same projection & pixel resolution as a reference image.\n",
        "from osgeo import ogr, gdal\n",
        "import subprocess\n",
        "import shutil\n",
        "\n",
        "def create_base_raster(burnVal:int,ref_image_path:str,output_image_name:str,shapefile_vector_path=None):\n",
        "    InputVector = shapefile_vector_path\n",
        "\n",
        "    gdalformat = 'GTiff'\n",
        "    datatype = gdal.GDT_Byte\n",
        "    ##########################################################\n",
        "    # Get projection info from reference image\n",
        "    Image = gdal.Open(ref_image_path, gdal.GA_ReadOnly)\n",
        "\n",
        "    # Open Shapefile\n",
        "    Shapefile = ogr.Open(InputVector)\n",
        "    Shapefile_layer = Shapefile.GetLayer()\n",
        "\n",
        "    # Rasterise\n",
        "    print(\"Rasterising shapefile...\")\n",
        "    Output = gdal.GetDriverByName(gdalformat).Create(output_image_name, Image.RasterXSize, Image.RasterYSize, 1, datatype, options=['COMPRESS=DEFLATE'])\n",
        "    Output.SetProjection(Image.GetProjectionRef())\n",
        "    Output.SetGeoTransform(Image.GetGeoTransform()) \n",
        "\n",
        "    # Write data to band 1\n",
        "    Band = Output.GetRasterBand(1)\n",
        "    Band.SetNoDataValue(0)\n",
        "    gdal.RasterizeLayer(Output, [1], Shapefile_layer, burn_values=[burnVal])\n",
        "\n",
        "    # Close datasets\n",
        "    Band = None\n",
        "    Output = None\n",
        "    Image = None\n",
        "    Shapefile = None\n",
        "\n",
        "    # Build image overviews\n",
        "    subprocess.call(\"gdaladdo --config COMPRESS_OVERVIEW DEFLATE \"+output_image_name+\" 2 4 8 16 32 64\", shell=True)\n",
        "    print(\"Done.\")"
      ],
      "execution_count": null,
      "outputs": []
    },
    {
      "cell_type": "markdown",
      "metadata": {
        "id": "cTST9jI25CYK"
      },
      "source": [
        "Create empty raster"
      ]
    },
    {
      "cell_type": "code",
      "metadata": {
        "id": "Bt5ebW3qsBcr"
      },
      "source": [
        "def create_empty_raster(ref_image_path:str,output_image_path_name:str):\n",
        "  src = rasterio.open(ref_image_path)\n",
        "  band= src.read(1,masked=True)\n",
        "  new_band = band.copy()\n",
        "  new_band.fill(0)\n",
        "  profile = src.profile\n",
        "  \n",
        "  with rasterio.open(output_image_path_name, 'w', **profile) as dst:\n",
        "          dst.write(new_band, 1)"
      ],
      "execution_count": null,
      "outputs": []
    },
    {
      "cell_type": "markdown",
      "metadata": {
        "id": "KtO5T6g2fAE1"
      },
      "source": [
        "## Creating Masks"
      ]
    },
    {
      "cell_type": "markdown",
      "metadata": {
        "id": "ZU13a11jjZ_1"
      },
      "source": [
        "Creating Brazilian Mask"
      ]
    },
    {
      "cell_type": "code",
      "metadata": {
        "colab": {
          "base_uri": "https://localhost:8080/",
          "height": 456
        },
        "id": "ASEaqc6djZb8",
        "outputId": "96a1fbdf-a47f-4ad4-a7e9-218ecd0701e0"
      },
      "source": [
        "import rasterio\n",
        "from rasterio.plot import show\n",
        "\n",
        "create_base_raster(burnVal=255,\n",
        "                   ref_image_path = ref_image_path,\n",
        "                   output_image_name = territory_mask_name,\n",
        "                   shapefile_vector_path=brasil_pais_shp)\n",
        "\n",
        "territory_mask_path = os.path.join(base_rasters_folder_path,territory_mask_name)\n",
        "shutil.copy(\"/content/\"+territory_mask_name, territory_mask_path)\n",
        "convert_dtype_to_float32(territory_mask_path)\n",
        "\n",
        "brazilian_mask_raster = rasterio.open(territory_mask_path)\n",
        "show((brazilian_mask_raster, 1))\n",
        "brazilian_mask_raster.meta"
      ],
      "execution_count": null,
      "outputs": [
        {
          "output_type": "stream",
          "text": [
            "Rasterising shapefile...\n",
            "Done.\n"
          ],
          "name": "stdout"
        },
        {
          "output_type": "display_data",
          "data": {
            "image/png": "[encoded data removed]",
            "text/plain": [
              "<Figure size 432x288 with 1 Axes>"
            ]
          },
          "metadata": {
            "tags": [],
            "needs_background": "light"
          }
        },
        {
          "output_type": "execute_result",
          "data": {
            "text/plain": [
              "{'count': 1,\n",
              " 'crs': CRS.from_epsg(4326),\n",
              " 'driver': 'GTiff',\n",
              " 'dtype': 'float32',\n",
              " 'height': 9549,\n",
              " 'nodata': 0.0,\n",
              " 'transform': Affine(0.00833333333333334, 0.0, -92.0166666666667,\n",
              "       0.0, -0.008333333333333333, 20.0916666666667),\n",
              " 'width': 7894}"
            ]
          },
          "metadata": {
            "tags": []
          },
          "execution_count": 15
        }
      ]
    },
    {
      "cell_type": "markdown",
      "metadata": {
        "id": "T7fxwoIFjbgO"
      },
      "source": [
        "Creating Empty Mask"
      ]
    },
    {
      "cell_type": "code",
      "metadata": {
        "colab": {
          "base_uri": "https://localhost:8080/",
          "height": 476
        },
        "id": "L7OAdyeojb5R",
        "outputId": "14cec225-92c6-4f60-9357-820895133802"
      },
      "source": [
        "empty_mask_path = os.path.join(base_rasters_folder_path,empty_mask_name)\n",
        "create_empty_raster(ref_image_path = ref_image_path,output_image_path_name =empty_mask_path)\n",
        "convert_dtype_to_float32(empty_mask_path)\n",
        "empty_mask_raster = rasterio.open(empty_mask_path)\n",
        "show((empty_mask_raster, 1))\n",
        "empty_mask_raster.meta\n",
        "          "
      ],
      "execution_count": null,
      "outputs": [
        {
          "output_type": "stream",
          "text": [
            "{'driver': 'GTiff', 'dtype': 'float32', 'nodata': -9999.0, 'width': 7894, 'height': 9549, 'count': 1, 'crs': CRS.from_epsg(4326), 'transform': Affine(0.00833333333333334, 0.0, -92.0166666666667,\n",
            "       0.0, -0.008333333333333333, 20.0916666666667), 'tiled': False, 'compress': 'lzw', 'interleave': 'band'}\n"
          ],
          "name": "stdout"
        },
        {
          "output_type": "display_data",
          "data": {
            "image/png": "[encoded data removed]",
            "text/plain": [
              "<Figure size 432x288 with 1 Axes>"
            ]
          },
          "metadata": {
            "tags": [],
            "needs_background": "light"
          }
        },
        {
          "output_type": "execute_result",
          "data": {
            "text/plain": [
              "{'count': 1,\n",
              " 'crs': CRS.from_epsg(4326),\n",
              " 'driver': 'GTiff',\n",
              " 'dtype': 'float32',\n",
              " 'height': 9549,\n",
              " 'nodata': -9999.0,\n",
              " 'transform': Affine(0.00833333333333334, 0.0, -92.0166666666667,\n",
              "       0.0, -0.008333333333333333, 20.0916666666667),\n",
              " 'width': 7894}"
            ]
          },
          "metadata": {
            "tags": []
          },
          "execution_count": 24
        }
      ]
    },
    {
      "cell_type": "code",
      "metadata": {
        "colab": {
          "base_uri": "https://localhost:8080/"
        },
        "id": "eEHRhIaGmt72",
        "outputId": "7ad71ecf-faf8-465d-8f26-f2f7b07ecdb0"
      },
      "source": [
        "empty_mask_raster.read(1)"
      ],
      "execution_count": null,
      "outputs": [
        {
          "output_type": "execute_result",
          "data": {
            "text/plain": [
              "array([[0., 0., 0., ..., 0., 0., 0.],\n",
              "       [0., 0., 0., ..., 0., 0., 0.],\n",
              "       [0., 0., 0., ..., 0., 0., 0.],\n",
              "       ...,\n",
              "       [0., 0., 0., ..., 0., 0., 0.],\n",
              "       [0., 0., 0., ..., 0., 0., 0.],\n",
              "       [0., 0., 0., ..., 0., 0., 0.]], dtype=float32)"
            ]
          },
          "metadata": {
            "tags": []
          },
          "execution_count": 25
        }
      ]
    },
    {
      "cell_type": "markdown",
      "metadata": {
        "id": "ZdDiLiWzH9iC"
      },
      "source": [
        "## Converting all Enverionment Rasters to Standard Configurations"
      ]
    },
    {
      "cell_type": "markdown",
      "metadata": {
        "id": "4J15lkv2m5x6"
      },
      "source": [
        "Original rasters list and names"
      ]
    },
    {
      "cell_type": "code",
      "metadata": {
        "colab": {
          "base_uri": "https://localhost:8080/"
        },
        "id": "k3-Xzxdqd-WR",
        "outputId": "178f5a16-9c71-42d3-fc86-959e0449d349"
      },
      "source": [
        "list_raster_files=[]\n",
        "list_names_raster=[]\n",
        "\n",
        "for raster_root_folder in rasters_root_folders_list:\n",
        "  for root, dirs, files in os.walk(raster_root_folder):\n",
        "      for file in files:\n",
        "          if file.endswith('.tif') and \"stacked\" not in file:\n",
        "              list_raster_files.append(raster_root_folder+\"/\"+file)\n",
        "              name=file.replace(\".tif\",\"\")\n",
        "              list_names_raster.append(name)\n",
        "print(list_raster_files)\n",
        "print(list_names_raster)"
      ],
      "execution_count": null,
      "outputs": [
        {
          "output_type": "stream",
          "text": [
            "['/content/drive/MyDrive/Mestrado/Deep Learning/Projeto/Data/Rasters/Elevation_Rasters/elev3_envirem_topographic_wetness_index.tif', '/content/drive/MyDrive/Mestrado/Deep Learning/Projeto/Data/Rasters/Elevation_Rasters/elev2_envirem_terrain_roughness_index.tif', '/content/drive/MyDrive/Mestrado/Deep Learning/Projeto/Data/Rasters/Elevation_Rasters/elev1_strm_worldclim_elevation.tif', '/content/drive/MyDrive/Mestrado/Deep Learning/Projeto/Data/Rasters/Bioclim_Rasters/bio1_annual_mean_temperature.tif', '/content/drive/MyDrive/Mestrado/Deep Learning/Projeto/Data/Rasters/Bioclim_Rasters/bio2_mean_diurnal_range.tif', '/content/drive/MyDrive/Mestrado/Deep Learning/Projeto/Data/Rasters/Bioclim_Rasters/bio3_isothermality.tif', '/content/drive/MyDrive/Mestrado/Deep Learning/Projeto/Data/Rasters/Bioclim_Rasters/bio4_temperature_seasonality.tif', '/content/drive/MyDrive/Mestrado/Deep Learning/Projeto/Data/Rasters/Bioclim_Rasters/bio5_max_temperature_of_warmest_month.tif', '/content/drive/MyDrive/Mestrado/Deep Learning/Projeto/Data/Rasters/Bioclim_Rasters/bio6_min_temperature_of_coldest_month.tif', '/content/drive/MyDrive/Mestrado/Deep Learning/Projeto/Data/Rasters/Bioclim_Rasters/bio7_temperature_annual_range.tif', '/content/drive/MyDrive/Mestrado/Deep Learning/Projeto/Data/Rasters/Bioclim_Rasters/bio8_mean_temperature_of_wettest_quarter.tif', '/content/drive/MyDrive/Mestrado/Deep Learning/Projeto/Data/Rasters/Bioclim_Rasters/bio9_mean_temperature_of_driest_quarter.tif', '/content/drive/MyDrive/Mestrado/Deep Learning/Projeto/Data/Rasters/Bioclim_Rasters/bio10_mean_temperature_of_warmest_quarter.tif', '/content/drive/MyDrive/Mestrado/Deep Learning/Projeto/Data/Rasters/Bioclim_Rasters/bio11_mean_temperature_of_coldest_quarter.tif', '/content/drive/MyDrive/Mestrado/Deep Learning/Projeto/Data/Rasters/Bioclim_Rasters/bio12_annual_precipitation.tif', '/content/drive/MyDrive/Mestrado/Deep Learning/Projeto/Data/Rasters/Bioclim_Rasters/bio13_precipitation_of_wettest_month.tif', '/content/drive/MyDrive/Mestrado/Deep Learning/Projeto/Data/Rasters/Bioclim_Rasters/bio14_precipitation_of_driest_month.tif', '/content/drive/MyDrive/Mestrado/Deep Learning/Projeto/Data/Rasters/Bioclim_Rasters/bio15_precipitation_seasonality.tif', '/content/drive/MyDrive/Mestrado/Deep Learning/Projeto/Data/Rasters/Bioclim_Rasters/bio16_precipitation_of_wettest_quarter.tif', '/content/drive/MyDrive/Mestrado/Deep Learning/Projeto/Data/Rasters/Bioclim_Rasters/bio17_precipitation_of_driest_quarter.tif', '/content/drive/MyDrive/Mestrado/Deep Learning/Projeto/Data/Rasters/Bioclim_Rasters/bio18_precipitation_of_warmest_quarter.tif', '/content/drive/MyDrive/Mestrado/Deep Learning/Projeto/Data/Rasters/Bioclim_Rasters/bio19_precipitation_of_coldest_quarter.tif', '/content/drive/MyDrive/Mestrado/Deep Learning/Projeto/Data/Rasters/Envirem_Rasters/envir1_annual_PET.tif', '/content/drive/MyDrive/Mestrado/Deep Learning/Projeto/Data/Rasters/Envirem_Rasters/envir2_aridity_index_thornthwaite.tif', '/content/drive/MyDrive/Mestrado/Deep Learning/Projeto/Data/Rasters/Envirem_Rasters/envir10_month_count_by_temp_10.tif', '/content/drive/MyDrive/Mestrado/Deep Learning/Projeto/Data/Rasters/Envirem_Rasters/envir11_PET_coldest_quarter.tif', '/content/drive/MyDrive/Mestrado/Deep Learning/Projeto/Data/Rasters/Envirem_Rasters/envir13_PET_seasonality.tif', '/content/drive/MyDrive/Mestrado/Deep Learning/Projeto/Data/Rasters/Envirem_Rasters/envir12_PET_driest_quarter.tif', '/content/drive/MyDrive/Mestrado/Deep Learning/Projeto/Data/Rasters/Envirem_Rasters/envir9_min_temp_warmest.tif', '/content/drive/MyDrive/Mestrado/Deep Learning/Projeto/Data/Rasters/Envirem_Rasters/envir14_PET_warmest_quarter.tif', '/content/drive/MyDrive/Mestrado/Deep Learning/Projeto/Data/Rasters/Envirem_Rasters/envir15_PET_wettest_quarter.tif', '/content/drive/MyDrive/Mestrado/Deep Learning/Projeto/Data/Rasters/Envirem_Rasters/envir16_thermicity_index.tif', '/content/drive/MyDrive/Mestrado/Deep Learning/Projeto/Data/Rasters/Envirem_Rasters/envir3_climatic_moisture_index.tif', '/content/drive/MyDrive/Mestrado/Deep Learning/Projeto/Data/Rasters/Envirem_Rasters/envir4_continentality.tif', '/content/drive/MyDrive/Mestrado/Deep Learning/Projeto/Data/Rasters/Envirem_Rasters/envir5_embergers_pluviothermic_quotient.tif', '/content/drive/MyDrive/Mestrado/Deep Learning/Projeto/Data/Rasters/Envirem_Rasters/envir6_growing_deg_days_0.tif', '/content/drive/MyDrive/Mestrado/Deep Learning/Projeto/Data/Rasters/Envirem_Rasters/envir7_growing_deg_days_5.tif', '/content/drive/MyDrive/Mestrado/Deep Learning/Projeto/Data/Rasters/Envirem_Rasters/envir8_max_temp_coldest.tif']\n",
            "['elev3_envirem_topographic_wetness_index', 'elev2_envirem_terrain_roughness_index', 'elev1_strm_worldclim_elevation', 'bio1_annual_mean_temperature', 'bio2_mean_diurnal_range', 'bio3_isothermality', 'bio4_temperature_seasonality', 'bio5_max_temperature_of_warmest_month', 'bio6_min_temperature_of_coldest_month', 'bio7_temperature_annual_range', 'bio8_mean_temperature_of_wettest_quarter', 'bio9_mean_temperature_of_driest_quarter', 'bio10_mean_temperature_of_warmest_quarter', 'bio11_mean_temperature_of_coldest_quarter', 'bio12_annual_precipitation', 'bio13_precipitation_of_wettest_month', 'bio14_precipitation_of_driest_month', 'bio15_precipitation_seasonality', 'bio16_precipitation_of_wettest_quarter', 'bio17_precipitation_of_driest_quarter', 'bio18_precipitation_of_warmest_quarter', 'bio19_precipitation_of_coldest_quarter', 'envir1_annual_PET', 'envir2_aridity_index_thornthwaite', 'envir10_month_count_by_temp_10', 'envir11_PET_coldest_quarter', 'envir13_PET_seasonality', 'envir12_PET_driest_quarter', 'envir9_min_temp_warmest', 'envir14_PET_warmest_quarter', 'envir15_PET_wettest_quarter', 'envir16_thermicity_index', 'envir3_climatic_moisture_index', 'envir4_continentality', 'envir5_embergers_pluviothermic_quotient', 'envir6_growing_deg_days_0', 'envir7_growing_deg_days_5', 'envir8_max_temp_coldest']\n"
          ],
          "name": "stdout"
        }
      ]
    },
    {
      "cell_type": "markdown",
      "metadata": {
        "id": "2ANWOu-3m-zZ"
      },
      "source": [
        "Functions to reescale and crop raster based on the base raster"
      ]
    },
    {
      "cell_type": "code",
      "metadata": {
        "id": "59Mac9m1JIIu"
      },
      "source": [
        "#Import gdal\n",
        "from osgeo import gdal\n",
        "import gdal, ogr, os, osr\n",
        "import rasterio\n",
        "from rasterio.enums import Resampling\n",
        "\n",
        "\n",
        "def get_window_from_extent(ref_raster,objective_raster):\n",
        "  \"\"\" Get a portion form a raster array based on the country limits\"\"\"\n",
        "  #Reference Raster\n",
        "  ref_aff = ref_raster.meta['transform']\n",
        "  ref_width = ref_raster.profile['width']\n",
        "  ref_heigh = ref_raster.profile['height']\n",
        "  #Objective Raster\n",
        "  obj_aff = objective_raster.meta['transform']\n",
        "  obj_width = objective_raster.profile['width']\n",
        "  obj_heigh = objective_raster.profile['height']\n",
        "  # X limits\n",
        "  x_min_limit = ref_aff[2]\n",
        "  x_max_limit = x_min_limit + ref_aff[0]*ref_width\n",
        "  # Y limits\n",
        "  y_max_limit = ref_aff[5]\n",
        "  y_min_limit = y_max_limit + ref_aff[4]*ref_heigh\n",
        "\n",
        "\n",
        "  col_start, row_start = ~obj_aff * (x_min_limit, y_max_limit)\n",
        "  col_stop, row_stop = ~obj_aff * (x_max_limit, y_min_limit)\n",
        "  return ((round(row_start,0),round(row_stop,0)), (round(col_start,0),round(col_stop,0)))\n",
        "\n",
        "\n",
        "def reescale_and_crop_to_reference(ref_file_path,objective_file_path,output_file_path):\n",
        "    \"\"\" Reescale a raster array on the desired resolution \"\"\"\n",
        "\n",
        "    ref_raster = rasterio.open(ref_file_path)\n",
        "    ref_raster_array = ref_raster.read(1).copy()\n",
        "    objective_raster =  rasterio.open(objective_file_path)\n",
        "\n",
        "    \n",
        "    # Same Resolutions and Same Size\n",
        "    if ref_raster.shape == objective_raster.shape and \\\n",
        "     (round(ref_raster.meta['transform'][0],5) == round(objective_raster.meta['transform'][0],5)):\n",
        "        data = objective_raster.read(1).copy()\n",
        "        print(\"Reading Raster Complete\")\n",
        "    \n",
        "    else:\n",
        "      print(\"Reading Raster Window\")\n",
        "      objective_raster_array = objective_raster.read(1,window = get_window_from_extent(ref_raster,objective_raster)).copy()\n",
        "      # Verificar as diferenças e remover o excesso. Ou adicionar \n",
        "      if ref_raster_array.shape != objective_raster_array.shape:\n",
        "        raise Exception(\"Reference and Objective Shapes are not matching\")\n",
        "\n",
        "\n",
        "      # Different Resolutions and Different Size\n",
        "      if not (round(ref_raster.meta['transform'][0],5) == round(objective_raster.meta['transform'][0],5)):\n",
        "\n",
        "        # resample data to target shape\n",
        "        data = objective_raster_array.read(\n",
        "            out_shape=(\n",
        "                ref_raster_array.count,\n",
        "                int(ref_raster_array.width),\n",
        "                int(ref_raster_array.height)\n",
        "            ),\n",
        "            resampling=Resampling.bilinear\n",
        "        )\n",
        "        data = data[0]\n",
        "      # Same Resolutions and Different Size\n",
        "      else:        \n",
        "        # scale image transform\n",
        "        data = objective_raster_array\n",
        "\n",
        "    obj_profile = objective_raster.profile\n",
        "    ref_profile = ref_raster.profile\n",
        "\n",
        "    if obj_profile['dtype'] != np.float32:\n",
        "      data = data.astype(rasterio.float32)\n",
        "      obj_profile['dtype'] = np.float32\n",
        "\n",
        "    if obj_profile['nodata'] != -9999.0:\n",
        "      data = np.where(data < -9999.0 ,-9999.0, data)\n",
        "      obj_profile['nodata'] =  -9999.0\n",
        "\n",
        "    if obj_profile['width'] != ref_profile['width']:\n",
        "      obj_profile['width'] =  ref_profile['width']\n",
        "\n",
        "    if obj_profile['height'] != ref_profile['height']:\n",
        "      obj_profile['height'] =  ref_profile['height']\n",
        "\n",
        "\n",
        "    print('obj_profile: ',obj_profile)\n",
        "    \n",
        "    with rasterio.open(output_file_path, 'w', **obj_profile) as dst:\n",
        "      dst.write(data, 1)"
      ],
      "execution_count": null,
      "outputs": []
    },
    {
      "cell_type": "markdown",
      "metadata": {
        "id": "JU5cvJddnGxi"
      },
      "source": [
        "Executimg transformation"
      ]
    },
    {
      "cell_type": "code",
      "metadata": {
        "id": "jn5d8bLuwdiu"
      },
      "source": [
        "import numpy as np\n",
        "for raster_file,name_raster in zip(list_raster_files,list_names_raster):\n",
        "\n",
        "    print(f\"Standarizing raster {name_raster}\")\n",
        "\n",
        "    \n",
        "    dst_folder_name = \"\"\n",
        "    if \"Elevation_Rasters\" in raster_file:\n",
        "      dst_folder_name = \"Elevation_Rasters\"\n",
        "    if \"Bioclim_Rasters\" in raster_file:\n",
        "      dst_folder_name = \"Bioclim_Rasters\"\n",
        "    if \"Envirem_Rasters\" in raster_file:\n",
        "      dst_folder_name = \"Envirem_Rasters\"\n",
        "    \n",
        "    ind = [i for i, s in enumerate(standarized_rasters_root_folders_list) if dst_folder_name in s]\n",
        "    standarized_raster_root_folder = standarized_rasters_root_folders_list[ind[0]]\n",
        "\n",
        "    output_file_path = standarized_raster_root_folder+'/'+name_raster+'.tif'\n",
        "\n",
        "    reescale_and_crop_to_reference(ref_image_path,raster_file,output_file_path)\n",
        "    # shutil.copy(\"/content/\"+name_raster+'.tif',standarized_raster_root_folder+'/'+name_raster+'.tif')\n",
        "\n",
        "    # print(\"Checking Raster:\")\n",
        "    # final_raster = rasterio.open(output_file_path)\n",
        "    # # Visualizando Raster final\n",
        "    # show((final_raster, 1))\n",
        "    # print(final_raster.meta)\n",
        "\n",
        "    print(\"-------------------------------------------------------------------\\n\")\n"
      ],
      "execution_count": null,
      "outputs": []
    },
    {
      "cell_type": "markdown",
      "metadata": {
        "id": "Y-z36x6uymmq"
      },
      "source": [
        "## Listing files for future oredered reading"
      ]
    },
    {
      "cell_type": "markdown",
      "metadata": {
        "id": "Y8Leqp4w5cPB"
      },
      "source": [
        "Saving TXTs"
      ]
    },
    {
      "cell_type": "code",
      "metadata": {
        "id": "kFwrmT-gyu9u"
      },
      "source": [
        "from natsort import natsorted\n",
        "list_raster_files=[]\n",
        "list_names_raster=[]\n",
        "\n",
        "# Fill lists\n",
        "for raster_root_folder in standarized_rasters_root_folders_list:\n",
        "  for root, dirs, files in os.walk(raster_root_folder):\n",
        "      for file in files:\n",
        "          if file.endswith('.tif') and \"stacked\" not in file:\n",
        "              list_raster_files.append(raster_root_folder+\"/\"+file)\n",
        "              name=file.replace(\".tif\",\"\")\n",
        "              list_names_raster.append(name)\n",
        "\n",
        "# Smart string sorting\n",
        "list_raster_files=natsorted(list_raster_files,key=lambda y: y.lower())\n",
        "list_names_raster=natsorted(list_names_raster,key=lambda y: y.lower())\n",
        "\n",
        "print(list_raster_files)\n",
        "print(list_names_raster)\n",
        "\n",
        "# Saving to .txt\n",
        "myfile = open(base_txt_files_path+'/list_raster_files.txt', 'w+')\n",
        "for item in list_raster_files:\n",
        "    myfile.write(item+\"\\n\")\n",
        "myfile.close()\n",
        "\n",
        "\n",
        "myfile = open(base_txt_files_path+'/list_names_raster.txt', 'w+')\n",
        "for item in list_names_raster:\n",
        "    myfile.write(item+\"\\n\")\n",
        "myfile.close()"
      ],
      "execution_count": null,
      "outputs": []
    },
    {
      "cell_type": "markdown",
      "metadata": {
        "id": "0PdNm7w-M4-W"
      },
      "source": [
        "## Creating a Dataframe With All Coordinates In Brazil"
      ]
    },
    {
      "cell_type": "markdown",
      "metadata": {
        "id": "HLIcL1t-dniD"
      },
      "source": [
        "This process can take **long minutes** to run. For this reason it will be **commented** by default"
      ]
    },
    {
      "cell_type": "code",
      "metadata": {
        "id": "f84jqk2AM_YS"
      },
      "source": [
        "import pandas as pd \r\n",
        "df_brazil = pd.DataFrame(columns = ['row','col','latitude','longitude'])\r\n",
        "brazilian_mask_raster_array = brazilian_mask_raster.read(1)\r\n",
        "brazilian_mask_raster_meta = brazilian_mask_raster.meta\r\n",
        "height = brazilian_mask_raster_meta['height']\r\n",
        "width = brazilian_mask_raster_meta['width']\r\n",
        "transform = brazilian_mask_raster_meta['transform']\r\n",
        "brazilian_mask_raster_shape = brazilian_mask_raster_array.shape\r\n",
        "dict_brazil = {}\r\n",
        "i = 0\r\n",
        "for w in range(width):\r\n",
        "  for h in range(height):\r\n",
        "    val = brazilian_mask_raster_array[h,w]\r\n",
        "    if val != 0.0:\r\n",
        "      long = transform[2] + transform[0]*w\r\n",
        "      lati = transform[5] + transform[4]*h\r\n",
        "      dict_brazil[i] = {'row':h, 'col':w, 'latitude':lati, 'longitude':long}\r\n",
        "      i = i + 1\r\n",
        "      \r\n",
        "df_brazil = pd.DataFrame.from_dict(dict_brazil, \"index\") \r\n",
        "df_brazil.head()"
      ],
      "execution_count": null,
      "outputs": []
    },
    {
      "cell_type": "code",
      "metadata": {
        "id": "bITJfRV-M5GM"
      },
      "source": [
        "df_brazil.to_csv(f\"{base_csv_files_path}/brazil_coords.csv\",index = False, header=True)"
      ],
      "execution_count": null,
      "outputs": []
    },
    {
      "cell_type": "markdown",
      "metadata": {
        "id": "td2OngvQB5kU"
      },
      "source": [
        "## Extracting Enverionment Data for All Coordinates In Brazil "
      ]
    },
    {
      "cell_type": "markdown",
      "metadata": {
        "id": "A0z7dAFJd5xd"
      },
      "source": [
        "This process can take **long hours** to run and if coolab restarts you must create a new dataframe and merge with the main one until you complete the process. For this reason it will be **commented** by default"
      ]
    },
    {
      "cell_type": "code",
      "metadata": {
        "id": "ZcZaULUYB5q2"
      },
      "source": [
        "# import pandas as pd\n",
        "# import rasterio\n",
        "# import numpy as np\n",
        "# brazil_coords_df = pd.read_csv(f\"{country_coords_folder_path}/brazil_coords.csv\")\n",
        "# list_raster_files = open(f\"{base_txt_files_path}/list_raster_files.txt\", 'r').read().splitlines()\n",
        "# list_names_raster = open(f\"{base_txt_files_path}/list_names_raster.txt\", 'r').read().splitlines()"
      ],
      "execution_count": null,
      "outputs": []
    },
    {
      "cell_type": "code",
      "metadata": {
        "id": "eJ5_lCOofxNp"
      },
      "source": [
        "# import rasterio\n",
        "\n",
        "# brazil_env_info_coords_df = brazil_coords_df.copy()\n",
        "\n",
        "# for i,(fp,nr) in enumerate(zip(list_raster_files,list_names_raster)):\n",
        "\n",
        "#     raster = rasterio.open(fp)\n",
        "#     raster_array = raster.read(1)\n",
        "#     dict_env_info_brazil_column = {}\n",
        "#     dict_env_info_brazil_column = {index:{nr:raster_array[int(row['row']),int(row['row'])]} for index,row in brazil_coords_df.iterrows()} \n",
        "#     df_env_info_column = pd.DataFrame.from_dict(dict_env_info_brazil_column, \"index\")\n",
        "#     brazil_env_info_coords_df = brazil_env_info_coords_df.merge(df_env_info_column, left_index=True, right_index=True)\n",
        "\n",
        "#     final_path = f\"{country_coords_folder_path}/brazil_coords_env_info.csv\"\n",
        "#     brazil_env_info_coords_df.to_csv(final_path,index = False, header=True)"
      ],
      "execution_count": null,
      "outputs": []
    },
    {
      "cell_type": "markdown",
      "metadata": {
        "id": "EdjwgRaeCKwF"
      },
      "source": [
        "## Saving Mean Std values for Each Raster"
      ]
    },
    {
      "cell_type": "markdown",
      "metadata": {
        "id": "GYAngw0Aegr2"
      },
      "source": [
        "This process needs the **previous step**. For this reason it will be **commented** by default"
      ]
    },
    {
      "cell_type": "code",
      "metadata": {
        "id": "RVh7I3Kb8qW2"
      },
      "source": [
        "# import pandas as pd\r\n",
        "# brazil_env_info_coords_df = pd.read_csv(f\"{base_csv_files_path}/brazil_coords_env_info.csv\")\r\n",
        "# brazil_env_info_coords_df.columns[4:]"
      ],
      "execution_count": null,
      "outputs": []
    },
    {
      "cell_type": "code",
      "metadata": {
        "id": "wOY_H6C1eYL0"
      },
      "source": [
        "# dict_brazil_mean_std = {}\r\n",
        "\r\n",
        "# df_brazil_mean_std = pd.DataFrame(columns = ['variable','mean','std'])\r\n",
        "# for i,env_column in enumerate(brazil_env_info_coords_df.columns[4:]):\r\n",
        "#   column_mean = brazil_env_info_coords_df[env_column][brazil_env_info_coords_df[env_column]>-9999.0].mean()\r\n",
        "#   column_std = brazil_env_info_coords_df[env_column][brazil_env_info_coords_df[env_column]>-9999.0].std()\r\n",
        "#   dict_brazil_mean_std[i] = {'variable':env_column, 'mean':column_mean, 'std':column_std}\r\n",
        "\r\n",
        "# df_brazil_mean_std = pd.DataFrame.from_dict(dict_brazil_mean_std, \"index\") \r\n",
        "# df_brazil_mean_std"
      ],
      "execution_count": null,
      "outputs": []
    },
    {
      "cell_type": "code",
      "metadata": {
        "id": "cdPx92vRebh7"
      },
      "source": [
        "# mean_std_path = f\"{base_csv_files_path}/brazil_vars_mean_std.csv\"\r\n",
        "# df_brazil_mean_std.to_csv(mean_std_path,index = False, header=True)"
      ],
      "execution_count": null,
      "outputs": []
    }
  ]
}
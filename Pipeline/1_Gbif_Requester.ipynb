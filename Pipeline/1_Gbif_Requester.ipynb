{
  "nbformat": 4,
  "nbformat_minor": 0,
  "metadata": {
    "colab": {
      "name": "1_Gbif_Requester.ipynb",
      "provenance": [],
      "collapsed_sections": [],
      "toc_visible": true
    },
    "kernelspec": {
      "name": "python3",
      "display_name": "Python 3"
    }
  },
  "cells": [
    {
      "cell_type": "markdown",
      "metadata": {
        "id": "DqM5COaWln9H"
      },
      "source": [
        "# GBIF_Request\n",
        "<!-- ## Responsabilities of this file\n",
        " \n",
        "\n",
        "*  Request data from the specific species on GBIF\n",
        "*  Show species occurrences locations \n",
        "*  Show main statistics about those occurrences -->"
      ]
    },
    {
      "cell_type": "markdown",
      "metadata": {
        "id": "NN6MQXPgVRFS"
      },
      "source": [
        "## Todo\n",
        "* Lear o JSON da espécie estudada e fazer arequisição de todas as espécies contidas no mesmo"
      ]
    },
    {
      "cell_type": "markdown",
      "metadata": {
        "id": "CbnEKoXF_O0i"
      },
      "source": [
        "## Who is Running?"
      ]
    },
    {
      "cell_type": "code",
      "metadata": {
        "id": "Mo52WSLv_SFX",
        "colab": {
          "base_uri": "https://localhost:8080/"
        },
        "outputId": "b5f01d03-915f-442a-a7f9-9786471581d5"
      },
      "source": [
        "#Matheus\n",
        "project_root = \"/content/drive/MyDrive/Mestrado/Deep Learning/Projeto\"\n",
        "#Gabi\n",
        "#Jean\n",
        "#Sandra\n",
        "\n",
        "from google.colab import drive\n",
        "drive.mount('/content/drive')"
      ],
      "execution_count": 8,
      "outputs": [
        {
          "output_type": "stream",
          "text": [
            "Mounted at /content/drive\n"
          ],
          "name": "stdout"
        }
      ]
    },
    {
      "cell_type": "markdown",
      "metadata": {
        "id": "LL1IoXOWZ-Yc"
      },
      "source": [
        "## General Parâmeters"
      ]
    },
    {
      "cell_type": "code",
      "metadata": {
        "id": "qG47-a5yZ_ex"
      },
      "source": [
        "# General parameters\n",
        "study_case_name = \"Anodorhynchus_hyacinthinus\" #@param {type:\"string\"}"
      ],
      "execution_count": 9,
      "outputs": []
    },
    {
      "cell_type": "markdown",
      "metadata": {
        "id": "65lKEga8nw1P"
      },
      "source": [
        "Fixed Parameters"
      ]
    },
    {
      "cell_type": "code",
      "metadata": {
        "id": "b1Db6yVanlii"
      },
      "source": [
        "# Required parametes to instantiate Specie\r\n",
        "limit = 300\r\n",
        "hasCoordinate=True\r\n",
        "lowYear=2000\r\n",
        "upYear=2020\r\n",
        "dropDuplicates=True\r\n",
        "tryOverrideSpecieData=True\r\n",
        "result_gibf_queries_maps_root_folder = project_root+'/Data/GBIF_Ocurrences_Maps'\r\n",
        "result_gibf_queries_data_root_folder =project_root+'/Data/GBIF_Ocurrences'\r\n",
        "\r\n",
        "# Required parametes to instantiate Brazil\r\n",
        "country_shapefiles_folder = project_root+'/Data/Shapefiles/Shapefiles_Brasil'\r\n",
        "Country_limits = (-73.981934,-34.792929, -33.750035, 5.271478)\r\n",
        "\r\n",
        "#Study Case Path\r\n",
        "study_cases_root_folder = project_root+\"/Data/Study_Cases\""
      ],
      "execution_count": 10,
      "outputs": []
    },
    {
      "cell_type": "markdown",
      "metadata": {
        "id": "EI9Ayo6SnO-z"
      },
      "source": [
        "## Installations"
      ]
    },
    {
      "cell_type": "code",
      "metadata": {
        "id": "ZCRhjFEuSPp4"
      },
      "source": [
        "!pip install pygbif --quiet\n",
        "!pip install geopandas --quiet"
      ],
      "execution_count": 11,
      "outputs": []
    },
    {
      "cell_type": "markdown",
      "metadata": {
        "id": "4IXfpK_q1pqQ"
      },
      "source": [
        "## Retrieving aux Classes"
      ]
    },
    {
      "cell_type": "code",
      "metadata": {
        "id": "yrnspKKe1pxa",
        "colab": {
          "base_uri": "https://localhost:8080/"
        },
        "outputId": "8e2026fc-ba5b-4b7a-bbc7-1021d907ecc2"
      },
      "source": [
        "!wget https://raw.githubusercontent.com/math-sasso/extinction-prevention-modeling-MO434/main/Aux_Files/utils.py"
      ],
      "execution_count": 12,
      "outputs": [
        {
          "output_type": "stream",
          "text": [
            "--2020-12-14 18:29:18--  https://raw.githubusercontent.com/math-sasso/extinction-prevention-modeling-MO434/main/Aux_Files/utils.py\n",
            "Resolving raw.githubusercontent.com (raw.githubusercontent.com)... 151.101.0.133, 151.101.64.133, 151.101.128.133, ...\n",
            "Connecting to raw.githubusercontent.com (raw.githubusercontent.com)|151.101.0.133|:443... connected.\n",
            "HTTP request sent, awaiting response... 200 OK\n",
            "Length: 800 [text/plain]\n",
            "Saving to: ‘utils.py.1’\n",
            "\n",
            "\rutils.py.1            0%[                    ]       0  --.-KB/s               \rutils.py.1          100%[===================>]     800  --.-KB/s    in 0s      \n",
            "\n",
            "2020-12-14 18:29:18 (40.6 MB/s) - ‘utils.py.1’ saved [800/800]\n",
            "\n"
          ],
          "name": "stdout"
        }
      ]
    },
    {
      "cell_type": "code",
      "metadata": {
        "id": "lo4IAX2QE6qr"
      },
      "source": [
        "from utils import Utils\n",
        "utils_methods = Utils()"
      ],
      "execution_count": 13,
      "outputs": []
    },
    {
      "cell_type": "markdown",
      "metadata": {
        "id": "GqXaEftGDsqc"
      },
      "source": [
        "## Getting Specie Study Data"
      ]
    },
    {
      "cell_type": "code",
      "metadata": {
        "colab": {
          "base_uri": "https://localhost:8080/",
          "height": 167
        },
        "id": "_QrcbUkt_0TW",
        "outputId": "9a3c261c-6097-4395-f60b-583266c4560a"
      },
      "source": [
        "import pandas as pd\r\n",
        "import os\r\n",
        "study_case_path =  os.path.join(study_cases_root_folder,study_case_name +'.csv')\r\n",
        "study_information_df = pd.read_csv(study_case_path)\r\n",
        "study_information_df"
      ],
      "execution_count": 14,
      "outputs": [
        {
          "output_type": "execute_result",
          "data": {
            "text/html": [
              "<div>\n",
              "<style scoped>\n",
              "    .dataframe tbody tr th:only-of-type {\n",
              "        vertical-align: middle;\n",
              "    }\n",
              "\n",
              "    .dataframe tbody tr th {\n",
              "        vertical-align: top;\n",
              "    }\n",
              "\n",
              "    .dataframe thead th {\n",
              "        text-align: right;\n",
              "    }\n",
              "</style>\n",
              "<table border=\"1\" class=\"dataframe\">\n",
              "  <thead>\n",
              "    <tr style=\"text-align: right;\">\n",
              "      <th></th>\n",
              "      <th>GBIF_ID</th>\n",
              "      <th>Species_Name</th>\n",
              "      <th>Study_Focus</th>\n",
              "    </tr>\n",
              "  </thead>\n",
              "  <tbody>\n",
              "    <tr>\n",
              "      <th>0</th>\n",
              "      <td>2479359</td>\n",
              "      <td>Anodorhynchus hyacinthinus</td>\n",
              "      <td>True</td>\n",
              "    </tr>\n",
              "    <tr>\n",
              "      <th>1</th>\n",
              "      <td>2732686</td>\n",
              "      <td>Attalea maripa</td>\n",
              "      <td>False</td>\n",
              "    </tr>\n",
              "    <tr>\n",
              "      <th>2</th>\n",
              "      <td>7413879</td>\n",
              "      <td>Acrocomia aculeata</td>\n",
              "      <td>False</td>\n",
              "    </tr>\n",
              "    <tr>\n",
              "      <th>3</th>\n",
              "      <td>2732758</td>\n",
              "      <td>Attalea phalerata</td>\n",
              "      <td>False</td>\n",
              "    </tr>\n",
              "  </tbody>\n",
              "</table>\n",
              "</div>"
            ],
            "text/plain": [
              "   GBIF_ID                Species_Name  Study_Focus\n",
              "0  2479359  Anodorhynchus hyacinthinus         True\n",
              "1  2732686              Attalea maripa        False\n",
              "2  7413879          Acrocomia aculeata        False\n",
              "3  2732758           Attalea phalerata        False"
            ]
          },
          "metadata": {
            "tags": []
          },
          "execution_count": 14
        }
      ]
    },
    {
      "cell_type": "code",
      "metadata": {
        "colab": {
          "base_uri": "https://localhost:8080/"
        },
        "id": "Se8zLGUBAU5t",
        "outputId": "cf50d1c1-5da5-4ec9-902d-990b10785664"
      },
      "source": [
        "species_name = study_information_df[study_information_df['Study_Focus'] ==True]['Species_Name'][0]\r\n",
        "taxonKey = study_information_df[study_information_df['Study_Focus'] ==True]['GBIF_ID'][0]\r\n",
        "species_name_string = species_name.replace(\" \",\"_\")\r\n",
        "print(f\"species_name: {species_name} \\ntaxonKey: {taxonKey} \\nspecies_name_string: {species_name_string} \\n \")"
      ],
      "execution_count": 15,
      "outputs": [
        {
          "output_type": "stream",
          "text": [
            "species_name: Anodorhynchus hyacinthinus \n",
            "taxonKey: 2479359 \n",
            "species_name_string: Anodorhynchus_hyacinthinus \n",
            " \n"
          ],
          "name": "stdout"
        }
      ]
    },
    {
      "cell_type": "markdown",
      "metadata": {
        "id": "nNKHLLvFvNHX"
      },
      "source": [
        "## Classe CountryShapefile"
      ]
    },
    {
      "cell_type": "code",
      "metadata": {
        "id": "GDarxYTmvWet",
        "colab": {
          "base_uri": "https://localhost:8080/"
        },
        "outputId": "bbe76955-3160-4a67-852b-056a13c13ee2"
      },
      "source": [
        "%%writefile brazil.py\n",
        "import os\n",
        "from osgeo import ogr\n",
        "from shapely import wkt\n",
        "import geopandas as gpd\n",
        "import matplotlib.pyplot as plt\n",
        "import pandas as pd\n",
        "from typing import Tuple\n",
        "\n",
        "\n",
        "class Brazil:\n",
        "  \"\"\"\n",
        "  This class models a country on the shapefile format on different detail levels\n",
        "  \n",
        "  \n",
        "  Attributes\n",
        "  ----------\n",
        "  x_min_limit : float\n",
        "      Country most western point\n",
        "  x_max_limit : float\n",
        "      Country most eastern point\n",
        "  y_min_limit : float\n",
        "      Country most south point\n",
        "  y_max_limit : float\n",
        "      Country most north point\n",
        "  _brazil_country_level_gpd : GeoDataframe\n",
        "      Geopandas dataframe for brazilian territory as country\n",
        "  _brazil_state_level_gpd : GeoDataframe\n",
        "      Geopandas dataframe for brazilian territory as states\n",
        "  _brazil_city_level_gpd : GeoDataframe\n",
        "      Geopandas dataframe for brazilian territory as cities\n",
        "  _brazil_district_level_gpd : GeoDataframe\n",
        "      Geopandas dataframe for brazilian territory as districts\n",
        "  _brazil_country_level_path : str\n",
        "      Path to brazilian territory as country\n",
        "  _brazil_state_level_path : str\n",
        "      Path to brazilian territory as states\n",
        "  _brazil_city_level_path : str\n",
        "      Path to brazilian territory as cities\n",
        "  _brazil_district_level_path : str\n",
        "      Path to brazilian territory as districts\n",
        "\n",
        "  \n",
        "  \"\"\"\n",
        "\n",
        "\n",
        "  def __init__(self, shapefiles_folder:str,country_limits:Tuple):\n",
        "    \"\"\"\n",
        "    Parameters\n",
        "    ----------\n",
        "    shapefiles_folder : str\n",
        "        Folder cointaing shapefiles from some country\n",
        "    country_limitsr : Tuple\n",
        "        Tuple with the country 4 limits (N,S,L,W)\n",
        "    \"\"\"\n",
        "\n",
        "    #Country_Limits\n",
        "    self.x_min_limit = country_limits[0]  # Coordenadas DMS: 07°32′39″S 073°59′04″W; Coordenada Decimal Geohack: -7.544167, -73.984444; Corrdenada Decimal epsg.io: -7.535403, -73.981934\n",
        "    self.x_max_limit = country_limits[1]  # Coordenadas DMS: 07°09′28″S 034°47′38″W; Coordenada Decimal Geohack: -20.474444, -28.840556; Corrdenada Decimal epsg.io: -7.155017, -34.792929\n",
        "    self.y_min_limit = country_limits[2]  # Coordenadas DMS: 33°45′09″S 053°22′07″W; Coordenada Decimal Geohack: -33.7525, -53.368611; Corrdenada Decimal epsg.io: -33.750035, -53.407288\n",
        "    self.y_max_limit = country_limits[3]  # Coordenadas DMS: 05°15′05″N 060°12′33″W; Coordenada Decimal Geohack: 5.251389, -60.209167; Corrdenada Decimal epsg.io: 5.271478, -60.214691\n",
        "      \n",
        "    #Folder\n",
        "    brazil_country_level_folder = shapefiles_folder + '/Pais'\n",
        "    brazil_state_level_folder = shapefiles_folder + '/Estados'\n",
        "    brazil_city_level_folder = shapefiles_folder + '/Municipios'\n",
        "    brazil_district_level_folder = shapefiles_folder + '/Distritos'\n",
        "    \n",
        "    #Complete file path\n",
        "    self._brazil_country_level_path = os.path.join(brazil_country_level_folder, 'BRA_adm0.shp')\n",
        "    self._brazil_state_level_path = os.path.join(brazil_state_level_folder, 'BRA_adm1.shp')\n",
        "    self._brazil_city_level_path = os.path.join(brazil_city_level_folder, 'BRA_adm2.shp')\n",
        "    self._brazil_district_level_path = os.path.join(brazil_district_level_folder, 'BRA_adm3.shp')\n",
        "\n",
        "    # GeoDataFrame\n",
        "    self._brazil_country_level_gpd = gpd.read_file(self._brazil_country_level_path)\n",
        "    self._brazil_state_level_gpd = gpd.read_file(self._brazil_state_level_path)\n",
        "    self._brazil_city_level_gpd = gpd.read_file(self._brazil_city_level_path)\n",
        "    self._brazil_district_level_gpd = gpd.read_file(self._brazil_district_level_path)\n",
        "\n",
        "\n",
        "  def get_country_level_gdf(self):\n",
        "    \"\"\"Construct geopandas dataframe for brazilian territory as country\"\"\"\n",
        "    return self._brazil_country_level_gpd\n",
        "\n",
        "  def get_state_level_gdf(self):\n",
        "    \"\"\"Construct geopandas dataframe for brazilian territory as states\"\"\"\n",
        "    return self._brazil_state_level_gpd\n",
        "\n",
        "  def get_city_level_gdf(self):\n",
        "    \"\"\"Construct geopandas dataframe for brazilian territory as cities\"\"\"\n",
        "    return self._brazil_city_level_gpd\n",
        "\n",
        "  def get_district_level_gdf(self):\n",
        "    \"\"\"Construct geopandas dataframe for brazilian territory as disrticts\"\"\"\n",
        "    return self._brazil_district_level_gpd\n",
        "\n",
        "  def get_df_only_with_inside_country_points(self,df,name_index:str='NAME_ISO',country_index:str='COUNTRY',lat_index:str='LATITUDE',lon_index:str='LONGITUDE'):\n",
        "    \"\"\"\n",
        "    Returns a filtered df without the missmarked occurrences, checking if they realy are inside the country\n",
        "\n",
        "    Parameters\n",
        "    ----------\n",
        "    df : Dataframe\n",
        "        Dataframe with gbif occurenced not checked\n",
        "    name_index : str\n",
        "        Column with name information \n",
        "    country_index : str\n",
        "        Column with country information  \n",
        "    lat_index : str\n",
        "        Column with latitude information\n",
        "    lon_index : str\n",
        "        Column with longitude information\n",
        "    \"\"\"\n",
        "\n",
        "    # 1 --> Open shapefile containing country polygons\n",
        "    filename = self._brazil_country_level_path\n",
        "    drv = ogr.GetDriverByName('ESRI Shapefile')                # set up driver object to read/write shapefiles        \n",
        "    shapefile = drv.Open(filename)                             # open shapefile \n",
        "    layer = shapefile.GetLayer(0)                              # create layer object for shapefile                               \n",
        "    \n",
        "    #2 --> Determine indices of relevant columns\n",
        "    nameIndex = layer.GetLayerDefn().GetFieldIndex(name_index) # index of column with country names in shapefile \n",
        "    countryIndex = df.columns.get_loc(country_index)           # index of country name column in observation table                                                            \n",
        "    latIndex = df.columns.get_loc(lat_index)                   # index of lat column in observation table\n",
        "    lonIndex = df.columns.get_loc(lon_index)                   # index of lon column in observation table\n",
        "\n",
        "    #3 --> Countries Check.\n",
        "    geocodingResults = []  #Set up list in which we will store the results of looking up the containing country for each row\n",
        "\n",
        "    # itertuples is used to efficiently loop through the rows of the data frame\n",
        "    for row in df.itertuples(index=False):  \n",
        "\n",
        "        # create a new OGR point object with lon and lat coordinates from current row \n",
        "        pt = ogr.Geometry(ogr.wkbPoint)                    \n",
        "        pt.SetPoint_2D(0, row[lonIndex], row[latIndex] )  \n",
        "\n",
        "        # apply spatial filter that will give us polygons that intersect our point\n",
        "        layer.SetSpatialFilter(pt)                         \n",
        "\n",
        "        country = \"UNKNOWN\"# variable for storing the country's name\n",
        "\n",
        "        # check whether there's exactly one feature selected, if get country name of that feature\n",
        "        if layer.GetFeatureCount() == 1:                   \n",
        "            country = layer.GetNextFeature().GetFieldAsString(nameIndex).title()\n",
        "        \n",
        "        # add country name to result list\n",
        "        geocodingResults.append(country)                   \n",
        "    \n",
        "    df['country_geocoding'] = geocodingResults  # add geocoding results as new column\n",
        "    df = df [(df.country_geocoding == df.COUNTRY)|(df.country_geocoding == 'Brazil')]\n",
        "\n",
        "\n",
        "    #4 --> Limits Check.\n",
        "    df = df[df['LONGITUDE']>=self.x_min_limit]\n",
        "    df = df[df['LONGITUDE']<=self.x_max_limit]\n",
        "    df = df[df['LATITUDE']>=self.y_min_limit]\n",
        "    df = df[df['LATITUDE']<=self.y_max_limit]\n",
        "    return df\n",
        "\n",
        "\n",
        "  def plot_points_on_country(self,\n",
        "                              species_name:str,\n",
        "                              map_result_path:str,\n",
        "                              species_presences_path:str,\n",
        "                              species_absences_path:str=None):\n",
        "                              \n",
        "    fig, ax = plt.subplots(figsize=(10, 10))\n",
        "\n",
        "    self._brazil_country_level_gpd.plot(ax=ax, facecolor='gray')\n",
        "\n",
        "\n",
        "\n",
        "    if \".csv\" in species_presences_path:\n",
        "      df_species_presences = pd.read_csv(species_presences_path)\n",
        "      gdf_species_presences = gpd.GeoDataFrame(df_species_presences, geometry=gpd.points_from_xy(df_species_presences.LONGITUDE, df_species_presences.LATITUDE),crs='epsg:4326')\n",
        "      # df_species_presences['geometry'] = df_species_presences['geometry'].apply(wkt.loads)\n",
        "      # gdf_species_presences = gpd.GeoDataFrame(df_species_presences, crs='epsg:4326')\n",
        "    elif \".shp\" in species_presences_path:\n",
        "      gdf_species_presences = gpd.read_file(species_presences_path)\n",
        "    gdf_species_presences.plot(ax=ax, color='blue', markersize=5,label=\"presences\")\n",
        "    \n",
        "    if species_absences_path:\n",
        "      if \".csv\" in species_absences_path:\n",
        "        df_species_absences = pd.read_csv(species_absences_path)\n",
        "        gdf_species_absences = gpd.GeoDataFrame(df_species_absences, geometry=gpd.points_from_xy(df_species_absences.LONGITUDE, df_species_absences.LATITUDE),crs='epsg:4326')\n",
        "      elif \".shp\" in species_absences_path:\n",
        "        gdf_species_absences = gpd.read_file(species_absences_path)\n",
        "      gdf_species_absences.plot(ax=ax, color='red', markersize=5,label=\"absences\")\n",
        "      plt.title(f'Ocorrências e Abeências da espécie \\n {species_name} no Brasil',fontsize=20)\n",
        "    else:\n",
        "      plt.title(f'Ocorrências da espécie  \\n {species_name} no Brasil',fontsize=20)\n",
        "    \n",
        "    plt.ylabel('Latitude [graus]',fontsize=16)\n",
        "    plt.xlabel('Longitude [graus]',fontsize=16)\n",
        "    plt.tight_layout()\n",
        "    plt.savefig(map_result_path)\n",
        "\n"
      ],
      "execution_count": 16,
      "outputs": [
        {
          "output_type": "stream",
          "text": [
            "Writing brazil.py\n"
          ],
          "name": "stdout"
        }
      ]
    },
    {
      "cell_type": "code",
      "metadata": {
        "id": "S2cOPKbEcuEy"
      },
      "source": [
        "%run brazil.py"
      ],
      "execution_count": 17,
      "outputs": []
    },
    {
      "cell_type": "markdown",
      "metadata": {
        "id": "ZzB_W_Lllb3s"
      },
      "source": [
        "## Classe Genérica para fazer a requisição\n",
        "Alguns outros parâmtreos interessantes que podem ser considerados \n",
        "elevation: Elevation (altitude) in meters above sea level. Supports range queries.\n",
        "establishmentMeans: EstablishmentMeans, as defined in our EstablishmentMeans enum\n",
        "repatriated: Searches for records whose publishing country is different to the country where the record was recorded in."
      ]
    },
    {
      "cell_type": "code",
      "metadata": {
        "id": "6JO4BU2zrlzg",
        "colab": {
          "base_uri": "https://localhost:8080/"
        },
        "outputId": "a7b6305e-b865-4882-e23a-328a6738a536"
      },
      "source": [
        "%%writefile specie.py\n",
        "import requests\n",
        "import pandas as pd\n",
        "import os\n",
        "import geopandas as gpd\n",
        "import numpy as np\n",
        "\n",
        "class Specie:\n",
        "\n",
        "  \"\"\"\n",
        "  This class reprepsents a specie that is retrieved from GBIF\n",
        "\n",
        "   Attributes\n",
        "  ----------\n",
        "  _taxonKey : int\n",
        "      GBIF code for requesting species data\n",
        "  _species_name : string\n",
        "      Species cientific name\n",
        "  _limit : int\n",
        "      Limit of rows by request\n",
        "  _hasCoordinate : boolean\n",
        "      Boolean for getting only data with Lat and Long\n",
        "  _lowYear : int\n",
        "      Low year limit for the query \n",
        "  _upYear : int\n",
        "      UP year limit for the query\n",
        "  _year_range : int\n",
        "      Geopandas dataframe for brazilian territory as cities\n",
        "  _dropDuplicates : boolean\n",
        "      True for dropping duplicate occurrences\n",
        "  _tryOverrideSpecieData : boolean\n",
        "      True for always retrieve the shapefile, false to used an existing one\n",
        "  _base_url : string\n",
        "       GBIF base URL\n",
        "  _out_shapefile_parent_folder : string\n",
        "      Path with shapefiles saving location\n",
        "\n",
        "  \"\"\"\n",
        "  def __init__(self,\n",
        "               taxonKey:int,\n",
        "               species_name:str,\n",
        "               countryObj:object=None,\n",
        "               limit:int =300,\n",
        "               hasCoordinate: bool=True,\n",
        "               lowYear:int=None,\n",
        "               upYear:int=None,\n",
        "               dropDuplicates:bool=True,\n",
        "               tryOverrideSpecieData:bool=False,\n",
        "               base_url:str = \"http://api.gbif.org/v1/occurrence/search\",\n",
        "               out_shapefile_parent_folder:str=None):\n",
        "    \n",
        "    \"\"\"    \n",
        "    Parameters\n",
        "    ----------\n",
        "    taxonKey : int\n",
        "        GBIF taxonkey identifier\n",
        "    species_name : str\n",
        "        Species Name\n",
        "    countryObj : object\n",
        "        Object with country shapefiles\n",
        "    limit : int\n",
        "        Limit of occurences in one request \n",
        "    hasCoordinate : bool\n",
        "        True for only get occurences with coordinates\n",
        "    lowYear : int\n",
        "        Low Year occurrence limit\n",
        "    upYear : int\n",
        "        Up Year occurrence limit\n",
        "    dropDuplicates : bool\n",
        "        True for dropping duplicate occurrences\n",
        "    tryOverrideSpecieData : bool\n",
        "        True for always retrieve the shapefile, false to used an existing one\n",
        "    base_url : str\n",
        "        GBIF base URL\n",
        "    out_shapefile_parent_folder : str\n",
        "        Path with shapefiles saving location\n",
        "        \n",
        "    \"\"\"\n",
        "    \n",
        "    #-------Country Object\n",
        "    self._countryObj = countryObj\n",
        "\n",
        "    #--------Parameters\n",
        "    self._taxonKey = taxonKey\n",
        "    self._species_name = species_name\n",
        "    self._limit = limit\n",
        "    self._hasCoordinate = hasCoordinate\n",
        "    self._lowYear = lowYear\n",
        "    self._upYear = upYear\n",
        "    self._year_range = str(lowYear) + ',' +str(upYear)\n",
        "    self._dropDuplicates = dropDuplicates\n",
        "    self._tryOverrideSpecieData = tryOverrideSpecieData\n",
        "    self._base_url = base_url\n",
        "    self._out_shapefile_parent_folder = out_shapefile_parent_folder\n",
        "\n",
        "    #--------Data Retrieval\n",
        "    if (not self._tryOverrideSpecieData) and (self._data_reader()):\n",
        "      print(\"In this case GBIF request was not necessary, we got gdf from Shapefile\")\n",
        "      self._df = None\n",
        "      self._gdf = self._data_reader()\n",
        "    else:\n",
        "      print(\"In this case GBIF request was necessary to create gdf file\")\n",
        "      df_dirty = self._managing_complete_species_dataframe()\n",
        "      self._df = self._get_inside_country_dataframe(df_dirty)\n",
        "      self._gdf = self._create_specie_geo_dataframe()\n",
        "      print('Effectively ' + str(len(self._gdf)) + ' examplars are inside country boarders')\n",
        "      self._shp_exporter()\n",
        "      \n",
        "\n",
        "  #-------- Private Methods \n",
        "  def _managing_complete_species_dataframe(self):\n",
        "    \"\"\" Organizes GBIF information in a dataframe considering offsets and some basic data cleaning\"\"\"\n",
        "\n",
        "    df = pd.DataFrame(columns=['GBIF_ID','SCIENTIFIC_NAME','LONGITUDE','LATITUDE','COUNTRY','STATE_PROVINCE','IDENTIFICATION_DATE','DAY','MONTH','YEAR'])\n",
        "    endOfRecords = False  \n",
        "    offset = 0  \n",
        "    status = 200\n",
        "    params = {'taxonKey': str(self._taxonKey) ,'limit':self._limit,'hasCoordinate':self._hasCoordinate,'year':self._year_range,'country':'BR'} \n",
        "    while endOfRecords == False and status == 200:  \n",
        "        r, endOfRecords, status = self._gbif_request_json_request(offset, params)\n",
        "        df = self._create_specie_dataframe(df,r)\n",
        "        offset = len(df) + 1\n",
        "    \n",
        "    # Double check to certify there is no empty lat/long data\n",
        "    df = df[pd.notnull(df['LATITUDE'])]\n",
        "    df = df[pd.notnull(df['LONGITUDE'])]\n",
        "\n",
        "    # Removing duplicate data\n",
        "    df = df.drop_duplicates(ignore_index=True) if self._dropDuplicates else df\n",
        "\n",
        "    # Sorting Data by STATE_PROVINCE\n",
        "    df.sort_values(\"STATE_PROVINCE\", inplace = True,ignore_index=True)\n",
        "    return df\n",
        "\n",
        "  def _gbif_request_json_request(self,offset,params):\n",
        "    \"\"\" Request GBIF information \"\"\"\n",
        "\n",
        "    query = self._base_url\n",
        "    params['offset'] = offset\n",
        "    r = requests.get(query,params=params)\n",
        "    status_code =  r.status_code\n",
        "    if r.status_code != 200:  \n",
        "        print(f\"API call failed at offset {offset} with a status code of {r.status_code}.\") \n",
        "        endOfRecords = True\n",
        "    else:  \n",
        "        r = r.json() \n",
        "        endOfRecords = r['endOfRecords']\n",
        "\n",
        "    return r,endOfRecords,status_code\n",
        "\n",
        "\n",
        "  def _data_reader(self):\n",
        "    \"\"\" Try to read an existing shapefile \"\"\"\n",
        "\n",
        "    species_folder = self.out_shapefile_folder\n",
        "    specie_id_file = str(self.taxonKey) + '.shp'\n",
        "    fp = os.path.join(species_folder, specie_id_file)\n",
        "    try:\n",
        "     gdf = gpd.read_file(fp) \n",
        "    except FileNotFoundError:\n",
        "     gdf = None\n",
        "    return gdf      \n",
        "  \n",
        "  def _shp_exporter(self):\n",
        "    \"\"\" Save gepandas as shapefile \"\"\"\n",
        "\n",
        "    species_folder =os.path.join(self._out_shapefile_parent_folder,  self._species_name)\n",
        "    if not os.path.exists(species_folder):\n",
        "      os.mkdir(species_folder)\n",
        "  \n",
        "    #saving shapefile data inside the created folder\n",
        "    self._gdf.to_file(species_folder)\n",
        "  \n",
        "  def _refact_dict(self, result):\n",
        "    \"\"\" Refact dict placing None in empty cells \"\"\"\n",
        "\n",
        "    columns = result.keys()\n",
        "    desired_columns = ['scientificName','decimalLongitude','decimalLatitude','country','stateProvince','eventDate','day','month','year','occurrenceRemarks']\n",
        "    for d_col in desired_columns:\n",
        "      if d_col not in columns:\n",
        "        result[d_col] = None\n",
        "    return result\n",
        "\n",
        "  def _create_specie_dataframe(self,df_final,request):\n",
        "    \"\"\" Create species dataframe with the request data \"\"\"\n",
        "\n",
        "    for result in request['results']:\n",
        "      result = self._refact_dict(result)\n",
        "      df_final = df_final.append({\n",
        "          \"GBIF_ID\":self._taxonKey, \n",
        "          \"SCIENTIFIC_NAME\": result['scientificName'],\n",
        "          \"LONGITUDE\": result['decimalLongitude'],\n",
        "          \"LATITUDE\":  result['decimalLatitude'],\n",
        "          \"COUNTRY\":  result['country'],\n",
        "          \"STATE_PROVINCE\":  result['stateProvince'],\n",
        "          \"IDENTIFICATION_DATE\":  result['eventDate'],\n",
        "          \"DAY\":  result['day'],\n",
        "          \"MONTH\":  result['month'],\n",
        "          \"YEAR\":  result['year']}, ignore_index=True)\n",
        "    return df_final\n",
        "\n",
        "  def _get_inside_country_dataframe(self,df):\n",
        "    \"\"\"Use country(brazil) object to double check if points truly are in Brazil\"\"\"\n",
        "\n",
        "    if self._countryObj:\n",
        "      insde_country_df = self._countryObj.get_df_only_with_inside_country_points(df,\n",
        "                                                                                 name_index='NAME_ISO',\n",
        "                                                                                 country_index='COUNTRY',\n",
        "                                                                                 lat_index='LATITUDE',\n",
        "                                                                                 lon_index='LONGITUDE')\n",
        "    else:\n",
        "      insde_country_df = df\n",
        "    return insde_country_df\n",
        "\n",
        "  def _create_specie_geo_dataframe(self):\n",
        "    \"\"\" Create species geodataframe from dataframe + Longitude and Latitude\"\"\"\n",
        "    gdf = gpd.GeoDataFrame(self._df, geometry=gpd.points_from_xy(self._df.LONGITUDE,self._df.LATITUDE))\n",
        "    return gdf\n",
        "    \n",
        "  #-------- Public Methods\n",
        "  def get_specie_df(self):\n",
        "    \"\"\" Get species as DataFrame \"\"\"\n",
        "    return self._df\n",
        "  \n",
        "  def get_specie_gdf(self):\n",
        "    \"\"\" Get species as vGeoDataFrame \"\"\"\n",
        "    return self._gdf\n"
      ],
      "execution_count": 18,
      "outputs": [
        {
          "output_type": "stream",
          "text": [
            "Writing specie.py\n"
          ],
          "name": "stdout"
        }
      ]
    },
    {
      "cell_type": "code",
      "metadata": {
        "id": "yafhanofc1hV"
      },
      "source": [
        "%run specie.py"
      ],
      "execution_count": 19,
      "outputs": []
    },
    {
      "cell_type": "markdown",
      "metadata": {
        "id": "M9z-9hP9THqK"
      },
      "source": [
        "## Criando dataframe"
      ]
    },
    {
      "cell_type": "markdown",
      "metadata": {
        "id": "Rl4i8ET_JKiW"
      },
      "source": [
        "Creating instance brazil"
      ]
    },
    {
      "cell_type": "code",
      "metadata": {
        "id": "3AwwFF7STGPV"
      },
      "source": [
        "brazil = Brazil(shapefiles_folder =country_shapefiles_folder ,country_limits = Country_limits)"
      ],
      "execution_count": 20,
      "outputs": []
    },
    {
      "cell_type": "code",
      "metadata": {
        "id": "E2fvc_K8WjqZ",
        "colab": {
          "base_uri": "https://localhost:8080/"
        },
        "outputId": "11587428-d589-4ad3-f4b3-5500791c3161"
      },
      "source": [
        "specie = Specie(taxonKey=taxonKey,\n",
        "                species_name=species_name_string,\n",
        "                countryObj=brazil,\n",
        "                limit=limit,\n",
        "                hasCoordinate=hasCoordinate,\n",
        "                lowYear=lowYear,\n",
        "                upYear=upYear,\n",
        "                dropDuplicates=dropDuplicates,\n",
        "                tryOverrideSpecieData=tryOverrideSpecieData,\n",
        "                out_shapefile_parent_folder=result_gibf_queries_data_root_folder)"
      ],
      "execution_count": 21,
      "outputs": [
        {
          "output_type": "stream",
          "text": [
            "In this case GBIF request was necessary to create gdf file\n",
            "Effectively 3277 examplars are inside country boarders\n"
          ],
          "name": "stdout"
        }
      ]
    },
    {
      "cell_type": "code",
      "metadata": {
        "id": "Qqeda8b74kDU",
        "colab": {
          "base_uri": "https://localhost:8080/",
          "height": 406
        },
        "outputId": "0311eee9-d497-4587-c472-39362ef4cadd"
      },
      "source": [
        "specie_gdf = specie.get_specie_gdf()\n",
        "specie_gdf"
      ],
      "execution_count": 22,
      "outputs": [
        {
          "output_type": "execute_result",
          "data": {
            "text/html": [
              "<div>\n",
              "<style scoped>\n",
              "    .dataframe tbody tr th:only-of-type {\n",
              "        vertical-align: middle;\n",
              "    }\n",
              "\n",
              "    .dataframe tbody tr th {\n",
              "        vertical-align: top;\n",
              "    }\n",
              "\n",
              "    .dataframe thead th {\n",
              "        text-align: right;\n",
              "    }\n",
              "</style>\n",
              "<table border=\"1\" class=\"dataframe\">\n",
              "  <thead>\n",
              "    <tr style=\"text-align: right;\">\n",
              "      <th></th>\n",
              "      <th>GBIF_ID</th>\n",
              "      <th>SCIENTIFIC_NAME</th>\n",
              "      <th>LONGITUDE</th>\n",
              "      <th>LATITUDE</th>\n",
              "      <th>COUNTRY</th>\n",
              "      <th>STATE_PROVINCE</th>\n",
              "      <th>IDENTIFICATION_DATE</th>\n",
              "      <th>DAY</th>\n",
              "      <th>MONTH</th>\n",
              "      <th>YEAR</th>\n",
              "      <th>country_geocoding</th>\n",
              "      <th>geometry</th>\n",
              "    </tr>\n",
              "  </thead>\n",
              "  <tbody>\n",
              "    <tr>\n",
              "      <th>0</th>\n",
              "      <td>2479359</td>\n",
              "      <td>Anodorhynchus hyacinthinus (Latham, 1790)</td>\n",
              "      <td>-52.562100</td>\n",
              "      <td>-17.180900</td>\n",
              "      <td>Brazil</td>\n",
              "      <td>Goiás</td>\n",
              "      <td>2019-06-08T00:00:00</td>\n",
              "      <td>8</td>\n",
              "      <td>6</td>\n",
              "      <td>2019</td>\n",
              "      <td>Brazil</td>\n",
              "      <td>POINT (-52.56210 -17.18090)</td>\n",
              "    </tr>\n",
              "    <tr>\n",
              "      <th>1</th>\n",
              "      <td>2479359</td>\n",
              "      <td>Anodorhynchus hyacinthinus (Latham, 1790)</td>\n",
              "      <td>-46.119800</td>\n",
              "      <td>-13.322400</td>\n",
              "      <td>Brazil</td>\n",
              "      <td>Goiás</td>\n",
              "      <td>2019-07-28T00:00:00</td>\n",
              "      <td>28</td>\n",
              "      <td>7</td>\n",
              "      <td>2019</td>\n",
              "      <td>Brazil</td>\n",
              "      <td>POINT (-46.11980 -13.32240)</td>\n",
              "    </tr>\n",
              "    <tr>\n",
              "      <th>2</th>\n",
              "      <td>2479359</td>\n",
              "      <td>Anodorhynchus hyacinthinus (Latham, 1790)</td>\n",
              "      <td>-46.284400</td>\n",
              "      <td>-13.377900</td>\n",
              "      <td>Brazil</td>\n",
              "      <td>Goiás</td>\n",
              "      <td>2019-08-24T00:00:00</td>\n",
              "      <td>24</td>\n",
              "      <td>8</td>\n",
              "      <td>2019</td>\n",
              "      <td>Brazil</td>\n",
              "      <td>POINT (-46.28440 -13.37790)</td>\n",
              "    </tr>\n",
              "    <tr>\n",
              "      <th>3</th>\n",
              "      <td>2479359</td>\n",
              "      <td>Anodorhynchus hyacinthinus (Latham, 1790)</td>\n",
              "      <td>-47.818800</td>\n",
              "      <td>-14.176800</td>\n",
              "      <td>Brazil</td>\n",
              "      <td>Goiás</td>\n",
              "      <td>2019-02-25T00:00:00</td>\n",
              "      <td>25</td>\n",
              "      <td>2</td>\n",
              "      <td>2019</td>\n",
              "      <td>Brazil</td>\n",
              "      <td>POINT (-47.81880 -14.17680)</td>\n",
              "    </tr>\n",
              "    <tr>\n",
              "      <th>4</th>\n",
              "      <td>2479359</td>\n",
              "      <td>Anodorhynchus hyacinthinus (Latham, 1790)</td>\n",
              "      <td>-52.675800</td>\n",
              "      <td>-17.139700</td>\n",
              "      <td>Brazil</td>\n",
              "      <td>Goiás</td>\n",
              "      <td>2019-06-14T00:00:00</td>\n",
              "      <td>14</td>\n",
              "      <td>6</td>\n",
              "      <td>2019</td>\n",
              "      <td>Brazil</td>\n",
              "      <td>POINT (-52.67580 -17.13970)</td>\n",
              "    </tr>\n",
              "    <tr>\n",
              "      <th>...</th>\n",
              "      <td>...</td>\n",
              "      <td>...</td>\n",
              "      <td>...</td>\n",
              "      <td>...</td>\n",
              "      <td>...</td>\n",
              "      <td>...</td>\n",
              "      <td>...</td>\n",
              "      <td>...</td>\n",
              "      <td>...</td>\n",
              "      <td>...</td>\n",
              "      <td>...</td>\n",
              "      <td>...</td>\n",
              "    </tr>\n",
              "    <tr>\n",
              "      <th>3272</th>\n",
              "      <td>2479359</td>\n",
              "      <td>Anodorhynchus hyacinthinus (Latham, 1790)</td>\n",
              "      <td>-55.950100</td>\n",
              "      <td>-20.083400</td>\n",
              "      <td>Brazil</td>\n",
              "      <td>None</td>\n",
              "      <td>2004-07-16T00:00:00</td>\n",
              "      <td>16</td>\n",
              "      <td>7</td>\n",
              "      <td>2004</td>\n",
              "      <td>Brazil</td>\n",
              "      <td>POINT (-55.95010 -20.08340)</td>\n",
              "    </tr>\n",
              "    <tr>\n",
              "      <th>3273</th>\n",
              "      <td>2479359</td>\n",
              "      <td>Anodorhynchus hyacinthinus (Latham, 1790)</td>\n",
              "      <td>-56.673400</td>\n",
              "      <td>-16.418100</td>\n",
              "      <td>Brazil</td>\n",
              "      <td>None</td>\n",
              "      <td>2004-09-28T00:00:00</td>\n",
              "      <td>28</td>\n",
              "      <td>9</td>\n",
              "      <td>2004</td>\n",
              "      <td>Brazil</td>\n",
              "      <td>POINT (-56.67340 -16.41810)</td>\n",
              "    </tr>\n",
              "    <tr>\n",
              "      <th>3274</th>\n",
              "      <td>2479359</td>\n",
              "      <td>Anodorhynchus hyacinthinus (Latham, 1790)</td>\n",
              "      <td>-57.022133</td>\n",
              "      <td>-19.579847</td>\n",
              "      <td>Brazil</td>\n",
              "      <td>None</td>\n",
              "      <td>2004-10-08T00:00:00</td>\n",
              "      <td>8</td>\n",
              "      <td>10</td>\n",
              "      <td>2004</td>\n",
              "      <td>Brazil</td>\n",
              "      <td>POINT (-57.02213 -19.57985)</td>\n",
              "    </tr>\n",
              "    <tr>\n",
              "      <th>3275</th>\n",
              "      <td>2479359</td>\n",
              "      <td>Anodorhynchus hyacinthinus (Latham, 1790)</td>\n",
              "      <td>-56.716700</td>\n",
              "      <td>-16.516700</td>\n",
              "      <td>Brazil</td>\n",
              "      <td>None</td>\n",
              "      <td>2003-12-04T00:00:00</td>\n",
              "      <td>4</td>\n",
              "      <td>12</td>\n",
              "      <td>2003</td>\n",
              "      <td>Brazil</td>\n",
              "      <td>POINT (-56.71670 -16.51670)</td>\n",
              "    </tr>\n",
              "    <tr>\n",
              "      <th>3276</th>\n",
              "      <td>2479359</td>\n",
              "      <td>Anodorhynchus hyacinthinus (Latham, 1790)</td>\n",
              "      <td>-57.433400</td>\n",
              "      <td>-21.033400</td>\n",
              "      <td>Brazil</td>\n",
              "      <td>None</td>\n",
              "      <td>2000-01-13T00:00:00</td>\n",
              "      <td>13</td>\n",
              "      <td>1</td>\n",
              "      <td>2000</td>\n",
              "      <td>Brazil</td>\n",
              "      <td>POINT (-57.43340 -21.03340)</td>\n",
              "    </tr>\n",
              "  </tbody>\n",
              "</table>\n",
              "<p>3277 rows × 12 columns</p>\n",
              "</div>"
            ],
            "text/plain": [
              "      GBIF_ID  ...                     geometry\n",
              "0     2479359  ...  POINT (-52.56210 -17.18090)\n",
              "1     2479359  ...  POINT (-46.11980 -13.32240)\n",
              "2     2479359  ...  POINT (-46.28440 -13.37790)\n",
              "3     2479359  ...  POINT (-47.81880 -14.17680)\n",
              "4     2479359  ...  POINT (-52.67580 -17.13970)\n",
              "...       ...  ...                          ...\n",
              "3272  2479359  ...  POINT (-55.95010 -20.08340)\n",
              "3273  2479359  ...  POINT (-56.67340 -16.41810)\n",
              "3274  2479359  ...  POINT (-57.02213 -19.57985)\n",
              "3275  2479359  ...  POINT (-56.71670 -16.51670)\n",
              "3276  2479359  ...  POINT (-57.43340 -21.03340)\n",
              "\n",
              "[3277 rows x 12 columns]"
            ]
          },
          "metadata": {
            "tags": []
          },
          "execution_count": 22
        }
      ]
    },
    {
      "cell_type": "code",
      "metadata": {
        "id": "N4lW4sPTRUAT",
        "colab": {
          "base_uri": "https://localhost:8080/"
        },
        "outputId": "8b3be4c3-eb3e-419a-affa-51a251489341"
      },
      "source": [
        "print(f'Número de resultados encontrados: {len(specie_gdf)}')"
      ],
      "execution_count": 23,
      "outputs": [
        {
          "output_type": "stream",
          "text": [
            "Número de resultados encontrados: 3277\n"
          ],
          "name": "stdout"
        }
      ]
    },
    {
      "cell_type": "markdown",
      "metadata": {
        "id": "t3miWW6s0ifA"
      },
      "source": [
        "Creating Instances for auxiliary species"
      ]
    },
    {
      "cell_type": "code",
      "metadata": {
        "colab": {
          "base_uri": "https://localhost:8080/",
          "height": 137
        },
        "id": "oEHqO8Tj0g-S",
        "outputId": "dec46398-dfff-4056-9526-700b02b85483"
      },
      "source": [
        "aux_species_df = study_information_df[study_information_df['Study_Focus']==False]\n",
        "aux_species_df"
      ],
      "execution_count": 24,
      "outputs": [
        {
          "output_type": "execute_result",
          "data": {
            "text/html": [
              "<div>\n",
              "<style scoped>\n",
              "    .dataframe tbody tr th:only-of-type {\n",
              "        vertical-align: middle;\n",
              "    }\n",
              "\n",
              "    .dataframe tbody tr th {\n",
              "        vertical-align: top;\n",
              "    }\n",
              "\n",
              "    .dataframe thead th {\n",
              "        text-align: right;\n",
              "    }\n",
              "</style>\n",
              "<table border=\"1\" class=\"dataframe\">\n",
              "  <thead>\n",
              "    <tr style=\"text-align: right;\">\n",
              "      <th></th>\n",
              "      <th>GBIF_ID</th>\n",
              "      <th>Species_Name</th>\n",
              "      <th>Study_Focus</th>\n",
              "    </tr>\n",
              "  </thead>\n",
              "  <tbody>\n",
              "    <tr>\n",
              "      <th>1</th>\n",
              "      <td>2732686</td>\n",
              "      <td>Attalea maripa</td>\n",
              "      <td>False</td>\n",
              "    </tr>\n",
              "    <tr>\n",
              "      <th>2</th>\n",
              "      <td>7413879</td>\n",
              "      <td>Acrocomia aculeata</td>\n",
              "      <td>False</td>\n",
              "    </tr>\n",
              "    <tr>\n",
              "      <th>3</th>\n",
              "      <td>2732758</td>\n",
              "      <td>Attalea phalerata</td>\n",
              "      <td>False</td>\n",
              "    </tr>\n",
              "  </tbody>\n",
              "</table>\n",
              "</div>"
            ],
            "text/plain": [
              "   GBIF_ID        Species_Name  Study_Focus\n",
              "1  2732686      Attalea maripa        False\n",
              "2  7413879  Acrocomia aculeata        False\n",
              "3  2732758   Attalea phalerata        False"
            ]
          },
          "metadata": {
            "tags": []
          },
          "execution_count": 24
        }
      ]
    },
    {
      "cell_type": "code",
      "metadata": {
        "colab": {
          "base_uri": "https://localhost:8080/"
        },
        "id": "1PENnE7I01uz",
        "outputId": "291febba-99c0-4652-c4c1-40ad51fd8f71"
      },
      "source": [
        "for index, row in aux_species_df.iterrows():\n",
        "   aux_specie = Specie(taxonKey=row['GBIF_ID'],\n",
        "                species_name=row['Species_Name'].replace(\" \",\"_\"),\n",
        "                countryObj=brazil,\n",
        "                limit=limit,\n",
        "                hasCoordinate=hasCoordinate,\n",
        "                lowYear=lowYear,\n",
        "                upYear=upYear,\n",
        "                dropDuplicates=dropDuplicates,\n",
        "                tryOverrideSpecieData=tryOverrideSpecieData,\n",
        "                out_shapefile_parent_folder=result_gibf_queries_data_root_folder)\n"
      ],
      "execution_count": 25,
      "outputs": [
        {
          "output_type": "stream",
          "text": [
            "In this case GBIF request was necessary to create gdf file\n",
            "Effectively 19 examplars are inside country boarders\n",
            "In this case GBIF request was necessary to create gdf file\n",
            "Effectively 67 examplars are inside country boarders\n",
            "In this case GBIF request was necessary to create gdf file\n",
            "Effectively 63 examplars are inside country boarders\n"
          ],
          "name": "stdout"
        }
      ]
    },
    {
      "cell_type": "markdown",
      "metadata": {
        "id": "hWTtQNhR9mi9"
      },
      "source": [
        "## Checking some Statistics from main specie"
      ]
    },
    {
      "cell_type": "markdown",
      "metadata": {
        "id": "V1SvMoyyDv0b"
      },
      "source": [
        "Species Statistics"
      ]
    },
    {
      "cell_type": "code",
      "metadata": {
        "id": "q8iG4Aaj9mDg",
        "colab": {
          "base_uri": "https://localhost:8080/"
        },
        "outputId": "114608e2-c4c4-4c23-91ab-2ba94aca3544"
      },
      "source": [
        "import pandas as pd\n",
        "import numpy as np\n",
        "list_of_points = specie_gdf['geometry']\n",
        "x_list = []\n",
        "y_list = []\n",
        "for point in list_of_points:\n",
        "  x_list.append(point.x)\n",
        "  y_list.append(point.y)  \n",
        "\n",
        "df_x= pd.DataFrame(np.array(x_list))\n",
        "df_y= pd.DataFrame(np.array(y_list))\n",
        "\n",
        "print(\"-----------Lat Description --------------\")\n",
        "print(df_y.describe())\n",
        "print(\"-----------Long Description --------------\")\n",
        "print(df_x.describe())"
      ],
      "execution_count": 26,
      "outputs": [
        {
          "output_type": "stream",
          "text": [
            "-----------Lat Description --------------\n",
            "                 0\n",
            "count  3277.000000\n",
            "mean    -16.184970\n",
            "std       3.827333\n",
            "min     -22.325000\n",
            "25%     -17.364500\n",
            "50%     -16.748100\n",
            "75%     -16.378600\n",
            "max      -2.497460\n",
            "-----------Long Description --------------\n",
            "                 0\n",
            "count  3277.000000\n",
            "mean    -55.726979\n",
            "std       2.442430\n",
            "min     -60.024700\n",
            "25%     -56.775100\n",
            "50%     -56.675200\n",
            "75%     -56.261000\n",
            "max     -42.791800\n"
          ],
          "name": "stdout"
        }
      ]
    },
    {
      "cell_type": "markdown",
      "metadata": {
        "id": "mEZwKGRgnsab"
      },
      "source": [
        "## Printing data from main specie"
      ]
    },
    {
      "cell_type": "code",
      "metadata": {
        "id": "P3CH5xQrTYGF"
      },
      "source": [
        "map_result_path = os.path.join(result_gibf_queries_maps_root_folder,species_name)\n",
        "utils_methods.create_folder_structure(map_result_path)\n"
      ],
      "execution_count": 27,
      "outputs": []
    },
    {
      "cell_type": "code",
      "metadata": {
        "colab": {
          "base_uri": "https://localhost:8080/",
          "height": 674
        },
        "id": "6ixU8UE4q3TG",
        "outputId": "a14f99a2-e511-498c-ee6b-d7dfb13d7c22"
      },
      "source": [
        "# presence_absence_folder_path = project_root + \"/Data/Species_Presence_Absence\"\n",
        "brazil.plot_points_on_country(species_name=species_name,\n",
        "                              map_result_path = f\"{map_result_path}/{species_name_string}.png\",\n",
        "                              species_presences_path = f\"{result_gibf_queries_data_root_folder}/{species_name_string}/{species_name_string}.shp\",\n",
        "                              species_absences_path=None)\n",
        "  "
      ],
      "execution_count": 28,
      "outputs": [
        {
          "output_type": "display_data",
          "data": {
            "image/png": "[encoded data removed]",
            "text/plain": [
              "<Figure size 720x720 with 1 Axes>"
            ]
          },
          "metadata": {
            "tags": [],
            "needs_background": "light"
          }
        }
      ]
    }
  ]
}
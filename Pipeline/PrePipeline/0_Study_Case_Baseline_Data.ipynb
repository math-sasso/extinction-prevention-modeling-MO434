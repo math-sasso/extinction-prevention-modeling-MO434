{
  "nbformat": 4,
  "nbformat_minor": 0,
  "metadata": {
    "colab": {
      "name": "0_Study_Case_Baseline_Data.ipynb",
      "provenance": [],
      "collapsed_sections": []
    },
    "kernelspec": {
      "name": "python3",
      "display_name": "Python 3"
    }
  },
  "cells": [
    {
      "cell_type": "markdown",
      "metadata": {
        "id": "xbKm3eeXOhHV"
      },
      "source": [
        "# Study Preservation Cases\r\n",
        "## Responsabilities of this file\r\n",
        "* Create all the proposed species study cases for the project"
      ]
    },
    {
      "cell_type": "markdown",
      "metadata": {
        "id": "_pnr_OP4uxji"
      },
      "source": [
        "## Who is Running?"
      ]
    },
    {
      "cell_type": "code",
      "metadata": {
        "id": "RK8xcga4uhby"
      },
      "source": [
        "#Matheus\r\n",
        "project_root = \"/content/drive/MyDrive/Mestrado/Deep Learning/Projeto\"\r\n",
        "#Gabi\r\n",
        "# project_root = \"/content/drive/MyDrive/Deep Learning/Projeto\"\r\n",
        "#Jean\r\n",
        "#Sandra\r\n",
        "\r\n",
        "from google.colab import drive\r\n",
        "drive.mount('/content/drive')"
      ],
      "execution_count": 1,
      "outputs": []
    },
    {
      "cell_type": "markdown",
      "metadata": {
        "id": "4xNKhYQEwlSF"
      },
      "source": [
        "## Retrieving aux Classes"
      ]
    },
    {
      "cell_type": "code",
      "metadata": {
        "colab": {
          "base_uri": "https://localhost:8080/"
        },
        "id": "GS4ZmOLqwmIX",
        "outputId": "9609f814-2afa-4fe4-bb1a-293e4420664f"
      },
      "source": [
        "!wget https://raw.githubusercontent.com/math-sasso/extinction-prevention-modeling-MO434/main/Aux_Files/utils.py"
      ],
      "execution_count": 2,
      "outputs": [
        {
          "output_type": "stream",
          "text": [
            "--2020-12-14 18:17:21--  https://raw.githubusercontent.com/math-sasso/extinction-prevention-modeling-MO434/main/Aux_Files/utils.py\n",
            "Resolving raw.githubusercontent.com (raw.githubusercontent.com)... 151.101.0.133, 151.101.64.133, 151.101.128.133, ...\n",
            "Connecting to raw.githubusercontent.com (raw.githubusercontent.com)|151.101.0.133|:443... connected.\n",
            "HTTP request sent, awaiting response... 200 OK\n",
            "Length: 800 [text/plain]\n",
            "Saving to: ‘utils.py’\n",
            "\n",
            "utils.py            100%[===================>]     800  --.-KB/s    in 0s      \n",
            "\n",
            "2020-12-14 18:17:22 (30.9 MB/s) - ‘utils.py’ saved [800/800]\n",
            "\n"
          ],
          "name": "stdout"
        }
      ]
    },
    {
      "cell_type": "code",
      "metadata": {
        "id": "-SbR1g6dwoZk"
      },
      "source": [
        "from utils import Utils\r\n",
        "utils_methods = Utils()"
      ],
      "execution_count": 3,
      "outputs": []
    },
    {
      "cell_type": "markdown",
      "metadata": {
        "id": "WPiniZWvwqPD"
      },
      "source": [
        "## Creating Folder Structure"
      ]
    },
    {
      "cell_type": "code",
      "metadata": {
        "id": "vtqxh4X7wsrG"
      },
      "source": [
        "utils_methods.create_folder_structure(project_root+\"/Data/Study_Cases\")"
      ],
      "execution_count": 4,
      "outputs": []
    },
    {
      "cell_type": "markdown",
      "metadata": {
        "id": "tjgVY25yvIJ_"
      },
      "source": [
        "## Study Cases"
      ]
    },
    {
      "cell_type": "code",
      "metadata": {
        "id": "oSMfQV2E99LN"
      },
      "source": [
        "all_species_dict= {}"
      ],
      "execution_count": 5,
      "outputs": []
    },
    {
      "cell_type": "markdown",
      "metadata": {
        "id": "IpOR4-ejvK73"
      },
      "source": [
        "### Arara-Azul Gigante\r\n"
      ]
    },
    {
      "cell_type": "code",
      "metadata": {
        "id": "UQsbVaRsNIQC",
        "colab": {
          "base_uri": "https://localhost:8080/",
          "height": 167
        },
        "outputId": "a2917782-5965-43c5-a6dd-e08c7bd4e721"
      },
      "source": [
        "import pandas as pd\n",
        "import os\n",
        "\n",
        "# Muitas ocorreências e localizado no país\n",
        "studied_specie_information = {'GBIF_ID':[2479359,2732686,7413879, 2732758],\n",
        "                              'Species_Name':['Anodorhynchus hyacinthinus','Attalea maripa','Acrocomia aculeata','Attalea phalerata'],\n",
        "                              'Study_Focus':[True,False,False,False]\n",
        "                              }\n",
        "studied_specie_information_df = pd.DataFrame. studied_specie_information_df = pd.DataFrame.from_dict(studied_specie_information)\n",
        "species_name = studied_specie_information_df[studied_specie_information_df['Study_Focus'] ==True]['Species_Name'][0]\n",
        "csv_name = species_name.replace(\" \",\"_\")\n",
        "studied_specie_information_df.to_csv(os.path.join(project_root+\"/Data/Study_Cases\",csv_name+'.csv'),index = False, header=True)\n",
        "studied_specie_information_df"
      ],
      "execution_count": 7,
      "outputs": [
        {
          "output_type": "execute_result",
          "data": {
            "text/html": [
              "<div>\n",
              "<style scoped>\n",
              "    .dataframe tbody tr th:only-of-type {\n",
              "        vertical-align: middle;\n",
              "    }\n",
              "\n",
              "    .dataframe tbody tr th {\n",
              "        vertical-align: top;\n",
              "    }\n",
              "\n",
              "    .dataframe thead th {\n",
              "        text-align: right;\n",
              "    }\n",
              "</style>\n",
              "<table border=\"1\" class=\"dataframe\">\n",
              "  <thead>\n",
              "    <tr style=\"text-align: right;\">\n",
              "      <th></th>\n",
              "      <th>GBIF_ID</th>\n",
              "      <th>Species_Name</th>\n",
              "      <th>Study_Focus</th>\n",
              "    </tr>\n",
              "  </thead>\n",
              "  <tbody>\n",
              "    <tr>\n",
              "      <th>0</th>\n",
              "      <td>2479359</td>\n",
              "      <td>Anodorhynchus hyacinthinus</td>\n",
              "      <td>True</td>\n",
              "    </tr>\n",
              "    <tr>\n",
              "      <th>1</th>\n",
              "      <td>2732686</td>\n",
              "      <td>Attalea maripa</td>\n",
              "      <td>False</td>\n",
              "    </tr>\n",
              "    <tr>\n",
              "      <th>2</th>\n",
              "      <td>7413879</td>\n",
              "      <td>Acrocomia aculeata</td>\n",
              "      <td>False</td>\n",
              "    </tr>\n",
              "    <tr>\n",
              "      <th>3</th>\n",
              "      <td>2732758</td>\n",
              "      <td>Attalea phalerata</td>\n",
              "      <td>False</td>\n",
              "    </tr>\n",
              "  </tbody>\n",
              "</table>\n",
              "</div>"
            ],
            "text/plain": [
              "   GBIF_ID                Species_Name  Study_Focus\n",
              "0  2479359  Anodorhynchus hyacinthinus         True\n",
              "1  2732686              Attalea maripa        False\n",
              "2  7413879          Acrocomia aculeata        False\n",
              "3  2732758           Attalea phalerata        False"
            ]
          },
          "metadata": {
            "tags": []
          },
          "execution_count": 7
        }
      ]
    },
    {
      "cell_type": "markdown",
      "metadata": {
        "id": "_1W9G1swvO0Z"
      },
      "source": [
        "###Ariranha\r\n"
      ]
    },
    {
      "cell_type": "code",
      "metadata": {
        "id": "yDfIHkDwSvxy",
        "colab": {
          "base_uri": "https://localhost:8080/",
          "height": 167
        },
        "outputId": "e04615f7-7147-47d7-8191-ed04a8660b71"
      },
      "source": [
        "# Poucas ocorrências e espalhadas pelo país.\n",
        "studied_specie_information = {'GBIF_ID':[2433681,2352230,2354120,2352479],\n",
        "                              'Species_Name':['Pteronura brasiliensis','Serrasalmus spilopleura','Acrocomia aculeata','Pygocentrus nattereri'],\n",
        "                              'Study_Focus':[True,False,False,False]\n",
        "                              }\n",
        "studied_specie_information_df = pd.DataFrame. studied_specie_information_df = pd.DataFrame.from_dict(studied_specie_information)\n",
        "species_name = studied_specie_information_df[studied_specie_information_df['Study_Focus'] ==True]['Species_Name'][0]\n",
        "csv_name = species_name.replace(\" \",\"_\")\n",
        "studied_specie_information_df.to_csv(os.path.join(project_root+\"/Data/Study_Cases\",csv_name+'.csv'),index = False, header=True)\n",
        "studied_specie_information_df"
      ],
      "execution_count": 8,
      "outputs": [
        {
          "output_type": "execute_result",
          "data": {
            "text/html": [
              "<div>\n",
              "<style scoped>\n",
              "    .dataframe tbody tr th:only-of-type {\n",
              "        vertical-align: middle;\n",
              "    }\n",
              "\n",
              "    .dataframe tbody tr th {\n",
              "        vertical-align: top;\n",
              "    }\n",
              "\n",
              "    .dataframe thead th {\n",
              "        text-align: right;\n",
              "    }\n",
              "</style>\n",
              "<table border=\"1\" class=\"dataframe\">\n",
              "  <thead>\n",
              "    <tr style=\"text-align: right;\">\n",
              "      <th></th>\n",
              "      <th>GBIF_ID</th>\n",
              "      <th>Species_Name</th>\n",
              "      <th>Study_Focus</th>\n",
              "    </tr>\n",
              "  </thead>\n",
              "  <tbody>\n",
              "    <tr>\n",
              "      <th>0</th>\n",
              "      <td>2433681</td>\n",
              "      <td>Pteronura brasiliensis</td>\n",
              "      <td>True</td>\n",
              "    </tr>\n",
              "    <tr>\n",
              "      <th>1</th>\n",
              "      <td>2352230</td>\n",
              "      <td>Serrasalmus spilopleura</td>\n",
              "      <td>False</td>\n",
              "    </tr>\n",
              "    <tr>\n",
              "      <th>2</th>\n",
              "      <td>2354120</td>\n",
              "      <td>Acrocomia aculeata</td>\n",
              "      <td>False</td>\n",
              "    </tr>\n",
              "    <tr>\n",
              "      <th>3</th>\n",
              "      <td>2352479</td>\n",
              "      <td>Pygocentrus nattereri</td>\n",
              "      <td>False</td>\n",
              "    </tr>\n",
              "  </tbody>\n",
              "</table>\n",
              "</div>"
            ],
            "text/plain": [
              "   GBIF_ID             Species_Name  Study_Focus\n",
              "0  2433681   Pteronura brasiliensis         True\n",
              "1  2352230  Serrasalmus spilopleura        False\n",
              "2  2354120       Acrocomia aculeata        False\n",
              "3  2352479    Pygocentrus nattereri        False"
            ]
          },
          "metadata": {
            "tags": []
          },
          "execution_count": 8
        }
      ]
    },
    {
      "cell_type": "markdown",
      "metadata": {
        "id": "qmY6CWTuvR2X"
      },
      "source": [
        "### Cangambám ou Jaratataca"
      ]
    },
    {
      "cell_type": "code",
      "metadata": {
        "id": "U3C8yyCMWFtq",
        "colab": {
          "base_uri": "https://localhost:8080/",
          "height": 197
        },
        "outputId": "45001e09-51f2-4ba2-873c-4fc47c4ee3e1"
      },
      "source": [
        "# Mais localizado na américa central, mas possui ocorrências no Brasil\n",
        "# Poucas ocorreências e localizado no país\n",
        "studied_specie_information = {'GBIF_ID':[2434883,1458,1470,3034046,2435099],\n",
        "                              'Species_Name':['onepatus semistriatus','Orthoptera','Coleoptera','Persea americana','Puma concolor'],\n",
        "                              'Study_Focus':[True,False,False,False,False]\n",
        "                              }\n",
        "studied_specie_information_df = pd.DataFrame. studied_specie_information_df = pd.DataFrame.from_dict(studied_specie_information)\n",
        "species_name = studied_specie_information_df[studied_specie_information_df['Study_Focus'] ==True]['Species_Name'][0]\n",
        "csv_name = species_name.replace(\" \",\"_\")\n",
        "studied_specie_information_df.to_csv(os.path.join(project_root+\"/Data/Study_Cases\",csv_name+'.csv'),index = False, header=True)\n",
        "studied_specie_information_df"
      ],
      "execution_count": 9,
      "outputs": [
        {
          "output_type": "execute_result",
          "data": {
            "text/html": [
              "<div>\n",
              "<style scoped>\n",
              "    .dataframe tbody tr th:only-of-type {\n",
              "        vertical-align: middle;\n",
              "    }\n",
              "\n",
              "    .dataframe tbody tr th {\n",
              "        vertical-align: top;\n",
              "    }\n",
              "\n",
              "    .dataframe thead th {\n",
              "        text-align: right;\n",
              "    }\n",
              "</style>\n",
              "<table border=\"1\" class=\"dataframe\">\n",
              "  <thead>\n",
              "    <tr style=\"text-align: right;\">\n",
              "      <th></th>\n",
              "      <th>GBIF_ID</th>\n",
              "      <th>Species_Name</th>\n",
              "      <th>Study_Focus</th>\n",
              "    </tr>\n",
              "  </thead>\n",
              "  <tbody>\n",
              "    <tr>\n",
              "      <th>0</th>\n",
              "      <td>2434883</td>\n",
              "      <td>onepatus semistriatus</td>\n",
              "      <td>True</td>\n",
              "    </tr>\n",
              "    <tr>\n",
              "      <th>1</th>\n",
              "      <td>1458</td>\n",
              "      <td>Orthoptera</td>\n",
              "      <td>False</td>\n",
              "    </tr>\n",
              "    <tr>\n",
              "      <th>2</th>\n",
              "      <td>1470</td>\n",
              "      <td>Coleoptera</td>\n",
              "      <td>False</td>\n",
              "    </tr>\n",
              "    <tr>\n",
              "      <th>3</th>\n",
              "      <td>3034046</td>\n",
              "      <td>Persea americana</td>\n",
              "      <td>False</td>\n",
              "    </tr>\n",
              "    <tr>\n",
              "      <th>4</th>\n",
              "      <td>2435099</td>\n",
              "      <td>Puma concolor</td>\n",
              "      <td>False</td>\n",
              "    </tr>\n",
              "  </tbody>\n",
              "</table>\n",
              "</div>"
            ],
            "text/plain": [
              "   GBIF_ID           Species_Name  Study_Focus\n",
              "0  2434883  onepatus semistriatus         True\n",
              "1     1458             Orthoptera        False\n",
              "2     1470             Coleoptera        False\n",
              "3  3034046       Persea americana        False\n",
              "4  2435099          Puma concolor        False"
            ]
          },
          "metadata": {
            "tags": []
          },
          "execution_count": 9
        }
      ]
    },
    {
      "cell_type": "markdown",
      "metadata": {
        "id": "XhZkz_HuvUlU"
      },
      "source": [
        "### Siriema"
      ]
    },
    {
      "cell_type": "code",
      "metadata": {
        "id": "0olS-YF7da5O",
        "colab": {
          "base_uri": "https://localhost:8080/",
          "height": 167
        },
        "outputId": "cd315780-b885-43cf-c14d-473e64c951f8"
      },
      "source": [
        "# Muitas ocorreências e espalhadas pelo país\n",
        "studied_specie_information = {'GBIF_ID':[5226,216,775, 4850187],\n",
        "                              'Species_Name':['Cariamidae','Insecta','Gymnophiona','Urubitinga Gray'],\n",
        "                              'Study_Focus':[True,False,False,False]\n",
        "                              }\n",
        "studied_specie_information_df = pd.DataFrame. studied_specie_information_df = pd.DataFrame.from_dict(studied_specie_information)\n",
        "species_name = studied_specie_information_df[studied_specie_information_df['Study_Focus'] ==True]['Species_Name'][0]\n",
        "csv_name = species_name.replace(\" \",\"_\")\n",
        "studied_specie_information_df.to_csv(os.path.join(project_root+\"/Data/Study_Cases\",csv_name+'.csv'),index = False, header=True)\n",
        "studied_specie_information_df"
      ],
      "execution_count": 10,
      "outputs": [
        {
          "output_type": "execute_result",
          "data": {
            "text/html": [
              "<div>\n",
              "<style scoped>\n",
              "    .dataframe tbody tr th:only-of-type {\n",
              "        vertical-align: middle;\n",
              "    }\n",
              "\n",
              "    .dataframe tbody tr th {\n",
              "        vertical-align: top;\n",
              "    }\n",
              "\n",
              "    .dataframe thead th {\n",
              "        text-align: right;\n",
              "    }\n",
              "</style>\n",
              "<table border=\"1\" class=\"dataframe\">\n",
              "  <thead>\n",
              "    <tr style=\"text-align: right;\">\n",
              "      <th></th>\n",
              "      <th>GBIF_ID</th>\n",
              "      <th>Species_Name</th>\n",
              "      <th>Study_Focus</th>\n",
              "    </tr>\n",
              "  </thead>\n",
              "  <tbody>\n",
              "    <tr>\n",
              "      <th>0</th>\n",
              "      <td>5226</td>\n",
              "      <td>Cariamidae</td>\n",
              "      <td>True</td>\n",
              "    </tr>\n",
              "    <tr>\n",
              "      <th>1</th>\n",
              "      <td>216</td>\n",
              "      <td>Insecta</td>\n",
              "      <td>False</td>\n",
              "    </tr>\n",
              "    <tr>\n",
              "      <th>2</th>\n",
              "      <td>775</td>\n",
              "      <td>Gymnophiona</td>\n",
              "      <td>False</td>\n",
              "    </tr>\n",
              "    <tr>\n",
              "      <th>3</th>\n",
              "      <td>4850187</td>\n",
              "      <td>Urubitinga Gray</td>\n",
              "      <td>False</td>\n",
              "    </tr>\n",
              "  </tbody>\n",
              "</table>\n",
              "</div>"
            ],
            "text/plain": [
              "   GBIF_ID     Species_Name  Study_Focus\n",
              "0     5226       Cariamidae         True\n",
              "1      216          Insecta        False\n",
              "2      775      Gymnophiona        False\n",
              "3  4850187  Urubitinga Gray        False"
            ]
          },
          "metadata": {
            "tags": []
          },
          "execution_count": 10
        }
      ]
    }
  ]
}